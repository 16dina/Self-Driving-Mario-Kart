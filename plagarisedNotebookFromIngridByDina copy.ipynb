{
 "cells": [
  {
   "cell_type": "code",
   "execution_count": 1,
   "metadata": {},
   "outputs": [
    {
     "name": "stdout",
     "output_type": "stream",
     "text": [
      "WARNING:tensorflow:From c:\\Users\\dinab\\Self Driving Mario Cart\\Self-Driving-Mario-Kart\\mario_env\\Lib\\site-packages\\keras\\src\\losses.py:2976: The name tf.losses.sparse_softmax_cross_entropy is deprecated. Please use tf.compat.v1.losses.sparse_softmax_cross_entropy instead.\n",
      "\n"
     ]
    }
   ],
   "source": [
    "import cv2\n",
    "import pyautogui\n",
    "import numpy as np\n",
    "from keras.models import load_model\n",
    "import keyboard\n",
    "import cv2 as cv \n",
    "import numpy as np\n",
    "import matplotlib.pyplot as plt\n",
    "import mss.tools\n",
    "import time\n",
    "import uuid\n",
    "import keyboard\n",
    "import pyautogui\n",
    "import time\n",
    "import mss.tools\n",
    "import uuid\n",
    "import keyboard\n",
    "from pynput import mouse"
   ]
  },
  {
   "cell_type": "code",
   "execution_count": 2,
   "metadata": {},
   "outputs": [],
   "source": [
    "def screenshot():\n",
    "    with mss.mss() as sct:\n",
    "        time.sleep(1)\n",
    "        monitor_info = sct.monitors[0]\n",
    "        top_margin = (monitor_info[\"height\"] // 3) + 50\n",
    "        monitor = {\"top\": monitor_info[\"top\"] + top_margin, \"left\": monitor_info[\"left\"] + 55, \"width\": monitor_info[\"width\"] - 120, \"height\": (monitor_info[\"height\"] * 2 // 3)-105}\n",
    "        output = f\"testimages/{str(uuid.uuid4())}.png\".format(**monitor)\n",
    "        sct_img = sct.grab(monitor)\n",
    "        mss.tools.to_png(sct_img.rgb, sct_img.size, output=output)\n",
    "    return output"
   ]
  },
  {
   "cell_type": "code",
   "execution_count": 3,
   "metadata": {},
   "outputs": [
    {
     "name": "stdout",
     "output_type": "stream",
     "text": [
      "WARNING:tensorflow:From c:\\Users\\dinab\\Self Driving Mario Cart\\Self-Driving-Mario-Kart\\mario_env\\Lib\\site-packages\\keras\\src\\backend.py:1398: The name tf.executing_eagerly_outside_functions is deprecated. Please use tf.compat.v1.executing_eagerly_outside_functions instead.\n",
      "\n",
      "WARNING:tensorflow:From c:\\Users\\dinab\\Self Driving Mario Cart\\Self-Driving-Mario-Kart\\mario_env\\Lib\\site-packages\\keras\\src\\layers\\pooling\\max_pooling2d.py:161: The name tf.nn.max_pool is deprecated. Please use tf.nn.max_pool2d instead.\n",
      "\n"
     ]
    }
   ],
   "source": [
    "model = load_model('model_v2_iris.h5')"
   ]
  },
  {
   "cell_type": "code",
   "execution_count": 5,
   "metadata": {},
   "outputs": [
    {
     "ename": "error",
     "evalue": "OpenCV(4.8.1) D:\\a\\opencv-python\\opencv-python\\opencv\\modules\\imgproc\\src\\color.cpp:182: error: (-215:Assertion failed) !_src.empty() in function 'cv::cvtColor'\n",
     "output_type": "error",
     "traceback": [
      "\u001b[1;31m---------------------------------------------------------------------------\u001b[0m",
      "\u001b[1;31merror\u001b[0m                                     Traceback (most recent call last)",
      "\u001b[1;32mc:\\Users\\dinab\\Self Driving Mario Cart\\Self-Driving-Mario-Kart\\plagarisedNotebookFromIngridByDina copy.ipynb Cell 4\u001b[0m line \u001b[0;36m2\n\u001b[0;32m      <a href='vscode-notebook-cell:/c%3A/Users/dinab/Self%20Driving%20Mario%20Cart/Self-Driving-Mario-Kart/plagarisedNotebookFromIngridByDina%20copy.ipynb#W3sZmlsZQ%3D%3D?line=0'>1</a>\u001b[0m img_orig \u001b[39m=\u001b[39m cv\u001b[39m.\u001b[39mimread(\u001b[39m\"\u001b[39m\u001b[39mDLIngrid/q/3bd9faf6-2375-4d13-b484-b468c8ae9f02.png\u001b[39m\u001b[39m\"\u001b[39m)\n\u001b[1;32m----> <a href='vscode-notebook-cell:/c%3A/Users/dinab/Self%20Driving%20Mario%20Cart/Self-Driving-Mario-Kart/plagarisedNotebookFromIngridByDina%20copy.ipynb#W3sZmlsZQ%3D%3D?line=1'>2</a>\u001b[0m img_rgb \u001b[39m=\u001b[39m cv\u001b[39m.\u001b[39;49mcvtColor(img_orig, cv\u001b[39m.\u001b[39;49mCOLOR_BGR2RGB)\n\u001b[0;32m      <a href='vscode-notebook-cell:/c%3A/Users/dinab/Self%20Driving%20Mario%20Cart/Self-Driving-Mario-Kart/plagarisedNotebookFromIngridByDina%20copy.ipynb#W3sZmlsZQ%3D%3D?line=2'>3</a>\u001b[0m reshaped_image \u001b[39m=\u001b[39m np\u001b[39m.\u001b[39mexpand_dims(img_rgb, axis\u001b[39m=\u001b[39m\u001b[39m0\u001b[39m)\n",
      "\u001b[1;31merror\u001b[0m: OpenCV(4.8.1) D:\\a\\opencv-python\\opencv-python\\opencv\\modules\\imgproc\\src\\color.cpp:182: error: (-215:Assertion failed) !_src.empty() in function 'cv::cvtColor'\n"
     ]
    }
   ],
   "source": [
    "img_orig = cv.imread(\"DLIngrid/q/3bd9faf6-2375-4d13-b484-b468c8ae9f02.png\")\n",
    "img_rgb = cv.cvtColor(img_orig, cv.COLOR_BGR2RGB)\n",
    "reshaped_image = np.expand_dims(img_rgb, axis=0)"
   ]
  },
  {
   "cell_type": "code",
   "execution_count": 26,
   "metadata": {},
   "outputs": [
    {
     "name": "stdout",
     "output_type": "stream",
     "text": [
      "1/1 [==============================] - 1s 839ms/step\n"
     ]
    }
   ],
   "source": [
    "prediction = model.predict(reshaped_image)"
   ]
  },
  {
   "cell_type": "code",
   "execution_count": 27,
   "metadata": {},
   "outputs": [],
   "source": [
    "action_index = np.argmax(prediction)\n",
    "confidence = prediction[0][action_index]"
   ]
  },
  {
   "cell_type": "code",
   "execution_count": 28,
   "metadata": {},
   "outputs": [
    {
     "name": "stdout",
     "output_type": "stream",
     "text": [
      "1\n",
      "0.8737693\n"
     ]
    }
   ],
   "source": [
    "action_index = np.argmax(prediction)\n",
    "confidence = prediction[0][action_index]\n",
    "print(action_index)\n",
    "print(confidence)"
   ]
  },
  {
   "cell_type": "code",
   "execution_count": null,
   "metadata": {},
   "outputs": [],
   "source": [
    "time.sleep(5)\n",
    "while not keyboard.is_pressed(\"space\"):\n",
    "    #test = \n",
    "    image = screenshot()\n",
    "\n",
    "\n",
    "    "
   ]
  },
  {
   "cell_type": "code",
   "execution_count": 9,
   "metadata": {},
   "outputs": [
    {
     "name": "stderr",
     "output_type": "stream",
     "text": [
      "Copying files: 2602 files [00:24, 104.89 files/s]\n"
     ]
    }
   ],
   "source": [
    "import splitfolders\n",
    "input_folder = './dlcombineddata'\n",
    "output_folder = './combinedsplit'\n",
    " \n",
    "#split the images into 80% training and 20% testing sets\n",
    "splitfolders.ratio(input_folder, output_folder, seed=40, ratio=(0.8, 0.2))"
   ]
  },
  {
   "cell_type": "code",
   "execution_count": 45,
   "metadata": {},
   "outputs": [],
   "source": [
    "from tensorflow.keras.applications.resnet50 import ResNet50\n",
    "model = ResNet50(include_top=False, weights=\"imagenet\", input_shape=(512, 512, 3))\n"
   ]
  },
  {
   "cell_type": "code",
   "execution_count": 1,
   "metadata": {},
   "outputs": [
    {
     "name": "stdout",
     "output_type": "stream",
     "text": [
      "WARNING:tensorflow:From c:\\Users\\ingri\\anaconda3\\envs\\mss\\Lib\\site-packages\\keras\\src\\losses.py:2976: The name tf.losses.sparse_softmax_cross_entropy is deprecated. Please use tf.compat.v1.losses.sparse_softmax_cross_entropy instead.\n",
      "\n"
     ]
    }
   ],
   "source": [
    "from tensorflow.keras.applications.resnet50 import ResNet50\n",
    "from tensorflow.keras.applications.resnet_v2 import ResNet50V2\n",
    "from tensorflow.keras.layers import Dense\n",
    "from tensorflow.keras.models import Model, load_model\n",
    "from tensorflow.keras.preprocessing.image import ImageDataGenerator\n",
    "import tensorflow.keras.optimizers as optimizers\n",
    "from keras.layers import Dense, GlobalAveragePooling2D\n",
    "from keras.layers import Dropout\n",
    "from keras.layers import BatchNormalization\n",
    "from keras.layers import Conv2D, MaxPooling2D\n",
    "from keras.layers import Flatten\n",
    "from keras.layers import Reshape"
   ]
  },
  {
   "cell_type": "code",
   "execution_count": 4,
   "metadata": {},
   "outputs": [
    {
     "name": "stdout",
     "output_type": "stream",
     "text": [
      "WARNING:tensorflow:From c:\\Users\\ingri\\anaconda3\\envs\\mss\\Lib\\site-packages\\keras\\src\\backend.py:1398: The name tf.executing_eagerly_outside_functions is deprecated. Please use tf.compat.v1.executing_eagerly_outside_functions instead.\n",
      "\n",
      "WARNING:tensorflow:From c:\\Users\\ingri\\anaconda3\\envs\\mss\\Lib\\site-packages\\keras\\src\\layers\\pooling\\max_pooling2d.py:161: The name tf.nn.max_pool is deprecated. Please use tf.nn.max_pool2d instead.\n",
      "\n"
     ]
    }
   ],
   "source": [
    "model = ResNet50V2(include_top=False, weights=\"imagenet\", input_shape=(224, 224, 3))"
   ]
  },
  {
   "cell_type": "code",
   "execution_count": 5,
   "metadata": {},
   "outputs": [],
   "source": [
    "for layer in model.layers:\n",
    "    layer.trainable = False"
   ]
  },
  {
   "cell_type": "code",
   "execution_count": 6,
   "metadata": {},
   "outputs": [],
   "source": [
    "x = model.output\n",
    "\n",
    "x = Dropout(0.5)(x)\n",
    "x = BatchNormalization()(x)\n",
    "#x = Reshape((1, 1, -1))(x)\n",
    "#x = Conv2D(filters=64, kernel_size=(3, 3), activation='relu')(x)  # Example convolutional layer\n",
    "x = MaxPooling2D(pool_size=(2, 2))(x)\n",
    "x = Flatten()(x)\n",
    "#x = GlobalAveragePooling2D()(x)\n",
    "x = Dense(128, activation='relu')(x)\n",
    "x = Dense(64, activation='relu')(x)\n",
    "\n",
    "classes = Dense(3, activation='softmax')(x) \n",
    "\n",
    "\n",
    "model = Model(inputs=model.input, outputs=classes)\n",
    "optimizer = optimizers.Adam(learning_rate=0.01)\n"
   ]
  },
  {
   "cell_type": "code",
   "execution_count": 15,
   "metadata": {},
   "outputs": [],
   "source": [
    "model.compile(optimizer=optimizer, loss=\"categorical_crossentropy\", metrics=[\"accuracy\"])"
   ]
  },
  {
   "cell_type": "code",
   "execution_count": 10,
   "metadata": {},
   "outputs": [],
   "source": [
    "datagen = ImageDataGenerator(rescale=1./255,\n",
    "                                rotation_range=20,\n",
    "                                width_shift_range=0.1,\n",
    "                                height_shift_range=0.1,\n",
    "                                zoom_range=0.1,\n",
    "                                shear_range=0.2,\n",
    "                                channel_shift_range=0.2,\n",
    "                                brightness_range=(0.8, 1.2),\n",
    "                                #contrast_range=(0.9, 1.1),\n",
    "                                #saturation_range=(0.8, 1.2),\n",
    "                                \n",
    "                                #horizontal_flip=True\n",
    "                                )"
   ]
  },
  {
   "cell_type": "code",
   "execution_count": 11,
   "metadata": {},
   "outputs": [
    {
     "name": "stdout",
     "output_type": "stream",
     "text": [
      "Found 2080 images belonging to 3 classes.\n",
      "Found 522 images belonging to 3 classes.\n"
     ]
    }
   ],
   "source": [
    "train_data = datagen.flow_from_directory(\"./combinedsplit/train\", target_size=(224, 224), batch_size=120, class_mode=\"categorical\")\n",
    "val_data = datagen.flow_from_directory(\"./combinedsplit/val\", target_size=(224, 224), batch_size=120, class_mode=\"categorical\")"
   ]
  },
  {
   "cell_type": "code",
   "execution_count": 16,
   "metadata": {},
   "outputs": [
    {
     "name": "stdout",
     "output_type": "stream",
     "text": [
      "Epoch 1/10\n",
      "18/18 [==============================] - 114s 6s/step - loss: 1.3832 - accuracy: 0.7697 - val_loss: 1.0130 - val_accuracy: 0.7414\n",
      "Epoch 2/10\n",
      "18/18 [==============================] - 93s 5s/step - loss: 0.7941 - accuracy: 0.8144 - val_loss: 0.5725 - val_accuracy: 0.8199\n",
      "Epoch 3/10\n",
      "18/18 [==============================] - 94s 5s/step - loss: 0.4251 - accuracy: 0.8452 - val_loss: 0.4429 - val_accuracy: 0.8180\n",
      "Epoch 4/10\n",
      "18/18 [==============================] - 94s 5s/step - loss: 0.3823 - accuracy: 0.8659 - val_loss: 0.4797 - val_accuracy: 0.8123\n",
      "Epoch 5/10\n",
      "18/18 [==============================] - 94s 5s/step - loss: 0.3663 - accuracy: 0.8572 - val_loss: 0.3934 - val_accuracy: 0.8372\n",
      "Epoch 6/10\n",
      "18/18 [==============================] - 93s 5s/step - loss: 0.3309 - accuracy: 0.8750 - val_loss: 0.3962 - val_accuracy: 0.8544\n",
      "Epoch 7/10\n",
      "18/18 [==============================] - 94s 5s/step - loss: 0.3237 - accuracy: 0.8673 - val_loss: 0.4048 - val_accuracy: 0.8372\n",
      "Epoch 8/10\n",
      "18/18 [==============================] - 94s 5s/step - loss: 0.3673 - accuracy: 0.8548 - val_loss: 0.4396 - val_accuracy: 0.8391\n",
      "Epoch 9/10\n",
      "18/18 [==============================] - 94s 5s/step - loss: 0.3123 - accuracy: 0.8726 - val_loss: 0.3791 - val_accuracy: 0.8563\n",
      "Epoch 10/10\n",
      "18/18 [==============================] - 93s 5s/step - loss: 0.3055 - accuracy: 0.8745 - val_loss: 0.4091 - val_accuracy: 0.8410\n"
     ]
    },
    {
     "data": {
      "text/plain": [
       "<keras.src.callbacks.History at 0x2c86438acd0>"
      ]
     },
     "execution_count": 16,
     "metadata": {},
     "output_type": "execute_result"
    }
   ],
   "source": [
    "model.fit(train_data, epochs=10, validation_data=val_data)"
   ]
  },
  {
   "cell_type": "code",
   "execution_count": 88,
   "metadata": {},
   "outputs": [],
   "source": [
    "model.save('goodmaybe.keras')"
   ]
  },
  {
   "cell_type": "code",
   "execution_count": 90,
   "metadata": {},
   "outputs": [
    {
     "name": "stderr",
     "output_type": "stream",
     "text": [
      "c:\\Users\\ingri\\anaconda3\\envs\\mss\\Lib\\site-packages\\keras\\src\\engine\\training.py:3103: UserWarning: You are saving your model as an HDF5 file via `model.save()`. This file format is considered legacy. We recommend using instead the native Keras format, e.g. `model.save('my_model.keras')`.\n",
      "  saving_api.save_model(\n"
     ]
    }
   ],
   "source": [
    "model.save('goodmaybe.h5')"
   ]
  },
  {
   "cell_type": "code",
   "execution_count": 177,
   "metadata": {},
   "outputs": [],
   "source": [
    "modelsaved = load_model('goodmaybe.keras')"
   ]
  },
  {
   "cell_type": "code",
   "execution_count": 20,
   "metadata": {},
   "outputs": [],
   "source": [
    "img = cv.imread(\"croppeddataingrid\\d/0c89b0ea-6314-415f-a6fb-b9772f845f7b.png\")\n",
    "img_rgb = cv.cvtColor(img_orig, cv.COLOR_BGR2RGB)\n",
    "img = cv2.resize(img_rgb, (224, 224))\n",
    "img_resized = img.astype('float32') / 255.0 \n",
    "reshaped_image = np.expand_dims(img, axis=0)"
   ]
  },
  {
   "cell_type": "code",
   "execution_count": 5,
   "metadata": {},
   "outputs": [],
   "source": [
    "from tensorflow.keras.applications.resnet_v2 import preprocess_input, decode_predictions\n",
    "from tensorflow.keras.utils import load_img"
   ]
  },
  {
   "cell_type": "code",
   "execution_count": 10,
   "metadata": {},
   "outputs": [],
   "source": [
    "def preprocess_image(input_image):\n",
    "    # Resize the image to match the input size of your model\n",
    "    original = cv.imread(input_image)\n",
    "    colored = cv.cvtColor(original, cv.COLOR_BGR2RGB)\n",
    "    resize = cv2.resize(colored, (224, 224))\n",
    "    # Normalize pixel values to be in the range [0, 1]\n",
    "    normalized = resize / 255.0\n",
    "    # Expand dimensions to match the input shape expected by the model\n",
    "    dimension = np.expand_dims(normalized, axis=0)\n",
    "    y = preprocess_input(dimension)\n",
    "    return y"
   ]
  },
  {
   "cell_type": "code",
   "execution_count": 6,
   "metadata": {},
   "outputs": [
    {
     "name": "stdout",
     "output_type": "stream",
     "text": [
      "WARNING:tensorflow:From c:\\Users\\ingri\\anaconda3\\envs\\mss\\Lib\\site-packages\\keras\\src\\backend.py:1398: The name tf.executing_eagerly_outside_functions is deprecated. Please use tf.compat.v1.executing_eagerly_outside_functions instead.\n",
      "\n",
      "WARNING:tensorflow:From c:\\Users\\ingri\\anaconda3\\envs\\mss\\Lib\\site-packages\\keras\\src\\layers\\pooling\\max_pooling2d.py:161: The name tf.nn.max_pool is deprecated. Please use tf.nn.max_pool2d instead.\n",
      "\n"
     ]
    }
   ],
   "source": [
    "modelsaved = load_model('modelmoredata.keras')"
   ]
  },
  {
   "cell_type": "code",
   "execution_count": 33,
   "metadata": {},
   "outputs": [
    {
     "name": "stdout",
     "output_type": "stream",
     "text": [
      "1/1 [==============================] - 0s 109ms/step\n"
     ]
    }
   ],
   "source": [
    "hmm = modelsaved.predict(preprocess_image(\"combinedsplit/val/forward/0c79ecf3-f9bd-4fd2-b607-7fe86db079d2.png\"))"
   ]
  },
  {
   "cell_type": "code",
   "execution_count": 39,
   "metadata": {},
   "outputs": [
    {
     "name": "stdout",
     "output_type": "stream",
     "text": [
      "0\n",
      "0.7527576\n"
     ]
    }
   ],
   "source": [
    "action_index = np.argmax(hmm)\n",
    "confidence = hmm[0][action_index]\n",
    "print(action_index)\n",
    "print(confidence)"
   ]
  },
  {
   "cell_type": "code",
   "execution_count": 35,
   "metadata": {},
   "outputs": [
    {
     "data": {
      "text/plain": [
       "array([0.7527576 , 0.1014059 , 0.14583649], dtype=float32)"
      ]
     },
     "execution_count": 35,
     "metadata": {},
     "output_type": "execute_result"
    }
   ],
   "source": [
    "hmm[0]"
   ]
  }
 ],
 "metadata": {
  "kernelspec": {
   "display_name": "mss",
   "language": "python",
   "name": "python3"
  },
  "language_info": {
   "codemirror_mode": {
    "name": "ipython",
    "version": 3
   },
   "file_extension": ".py",
   "mimetype": "text/x-python",
   "name": "python",
   "nbconvert_exporter": "python",
   "pygments_lexer": "ipython3",
   "version": "3.11.5"
  }
 },
 "nbformat": 4,
 "nbformat_minor": 2
}
