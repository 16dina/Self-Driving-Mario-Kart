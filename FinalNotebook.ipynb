{
 "cells": [
  {
   "cell_type": "code",
   "execution_count": null,
   "metadata": {},
   "outputs": [],
   "source": [
    "# import cv2 as cv\n",
    "# import numpy as np\n",
    "# import matplotlib.pyplot as plt\n",
    "# import mss.tools\n",
    "# import time\n",
    "# import uuid\n",
    "# import keyboard\n",
    "\n",
    "# def drive ():\n",
    "#     time.sleep(10)\n",
    "#     with mss.mss() as sct:\n",
    "#         monitor_info = sct.monitors[0]\n",
    "#         top_margin = (monitor_info[\"height\"] // 3) + 50\n",
    "#         monitor = {\"top\": monitor_info[\"top\"] + top_margin, \"left\": monitor_info[\"left\"] + 55, \"width\": monitor_info[\"width\"] - 120, \"height\": (monitor_info[\"height\"] * 2 // 3)-105}\n",
    "\n",
    "#         # hold space for a bit when you're stopping so it stops\n",
    "#         while not keyboard.is_pressed(\"space\"):\n",
    "#             output = f\"testingDataset/{str(uuid.uuid4())}.png\".format(**monitor)\n",
    "#             sct_img = sct.grab(monitor)\n",
    "#             mss.tools.to_png(sct_img.rgb, sct_img.size, output=output)\n",
    "#             print(f\"Captured {output}\")\n",
    "#             time.sleep(1)\n",
    "\n",
    "    "
   ]
  },
  {
   "cell_type": "code",
   "execution_count": 28,
   "metadata": {},
   "outputs": [
    {
     "name": "stdout",
     "output_type": "stream",
     "text": [
      "[9, 10]\n",
      "[665, 1168]\n",
      "Distance between the points: 522.4327707944823\n"
     ]
    }
   ],
   "source": [
    "import cv2 as cv\n",
    "import numpy as np\n",
    "import matplotlib.pyplot as plt\n",
    "import mss.tools\n",
    "import time\n",
    "import uuid\n",
    "import keyboard\n",
    "import math\n",
    "\n",
    "def drive ():\n",
    "    img_orig = cv.imread('dataset/16cb0d3e-09d2-49db-9a6b-fdc001edcf77.png')\n",
    "    img_rgb = cv.cvtColor(img_orig, cv.COLOR_BGR2RGB)\n",
    "    img_blur = cv.blur(img_orig, ksize = (5, 5))\n",
    "    img_canny = cv.Canny(img_blur, threshold1=121.6, threshold2=180.9)\n",
    "    cdst = cv.cvtColor(img_rgb, cv.COLOR_RGB2GRAY)\n",
    "    linesP = cv.HoughLinesP(img_canny, 1, np.pi / 250, 90, None, 94.6, 20.5)\n",
    "    if linesP is not None:\n",
    "        for i in range(0, len(linesP)):\n",
    "            l = linesP[i][0]\n",
    "            cv.line(cdst, (l[0], l[1]), (l[2], l[3]), (0,0,255), 3, cv.LINE_AA)\n",
    "    \n",
    "    y = []\n",
    "    x = []\n",
    "    for line in linesP:\n",
    "        x1, y1, x2, y2 = line[0]\n",
    "        cv.line(cdst, (x1, y1), (x2, y2), (0, 255, 0), 2)  # Draw lines in green\n",
    "        #cv.circle(cdst, (x1, y1), 5, (0, 255, 255), -1)    # Mark starting point in yellow\n",
    "        #cv.circle(cdst, (x2, y2), 5, (0, 0, 255), -1)      # Mark ending point in red\n",
    "        y.append(y1)\n",
    "        y.append(y2)\n",
    "        x.append(x1)\n",
    "        x.append(x2)\n",
    "    \n",
    "    # Find the indices of the top 2 minimum y values\n",
    "    top_2_min_indices = sorted(range(len(y)), key=lambda k: y[k])[:2]\n",
    "\n",
    "    # Get the corresponding x values for the top 2 minimum y values\n",
    "    matching_x_values = [x[index] for index in top_2_min_indices]\n",
    "    print(top_2_min_indices)\n",
    "    print(matching_x_values)\n",
    "\n",
    "    # Extract coordinates\n",
    "    x1, y1 = x[0], y[0]\n",
    "    x2, y2 = x[1], y[1]\n",
    "    cv.circle(cdst, (x1, y1), 10, (0, 0, 255), -1)      # Mark ending point in red\n",
    "\n",
    "    cv.circle(cdst, (x2, y2), 10, (0, 0, 255), -1)      # Mark ending point in red\n",
    "\n",
    "    # Calculate Euclidean distance\n",
    "    distance = math.sqrt((x2 - x1)**2 + (y2 - y1)**2)\n",
    "\n",
    "    print(\"Distance between the points:\", distance)\n",
    "\n",
    "    center = distance / 2\n",
    "\n",
    "    cv.imshow(\"Detected Lines (in red) - Probabilistic Line Transform\", cdst)\n",
    "    cv.waitKey()\n",
    "drive()"
   ]
  }
 ],
 "metadata": {
  "kernelspec": {
   "display_name": "mario_env",
   "language": "python",
   "name": "python3"
  },
  "language_info": {
   "codemirror_mode": {
    "name": "ipython",
    "version": 3
   },
   "file_extension": ".py",
   "mimetype": "text/x-python",
   "name": "python",
   "nbconvert_exporter": "python",
   "pygments_lexer": "ipython3",
   "version": "3.11.5"
  }
 },
 "nbformat": 4,
 "nbformat_minor": 2
}
