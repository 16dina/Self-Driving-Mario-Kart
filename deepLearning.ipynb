{
 "cells": [
  {
   "cell_type": "code",
   "execution_count": 7,
   "metadata": {},
   "outputs": [
    {
     "name": "stdout",
     "output_type": "stream",
     "text": [
      "Press keys or click the mouse (Press 'Esc' to exit)\n",
      "d\n",
      "d\n",
      "q\n",
      "q\n",
      "left\n",
      "d\n",
      "d\n",
      "q\n",
      "q\n",
      "esc\n"
     ]
    },
    {
     "name": "stderr",
     "output_type": "stream",
     "text": [
      "Traceback (most recent call last):\n",
      "  File \"c:\\Users\\dinab\\Self Driving Mario Cart\\Self-Driving-Mario-Kart\\mario_env\\Lib\\site-packages\\keyboard\\_generic.py\", line 22, in invoke_handlers\n",
      "    if handler(event):\n",
      "       ^^^^^^^^^^^^^^\n",
      "  File \"C:\\Users\\dinab\\AppData\\Local\\Temp\\ipykernel_11172\\1361161493.py\", line 31, in on_keyboard_event\n",
      "    return screenshot(event.name)\n",
      "           ^^^^^^^^^^^^^^^^^^^^^^\n",
      "  File \"C:\\Users\\dinab\\AppData\\Local\\Temp\\ipykernel_11172\\1361161493.py\", line 25, in screenshot\n",
      "    mss.tools.to_png(sct_img.rgb, sct_img.size, output=output)\n",
      "  File \"c:\\Users\\dinab\\Self Driving Mario Cart\\Self-Driving-Mario-Kart\\mario_env\\Lib\\site-packages\\mss\\tools.py\", line 54, in to_png\n",
      "    with open(output, \"wb\") as fileh:\n",
      "         ^^^^^^^^^^^^^^^^^^\n",
      "FileNotFoundError: [Errno 2] No such file or directory: 'deep_learning_data/esc/951ee5bd-b1e1-4abd-a044-8bfbc33720a8.png'\n"
     ]
    },
    {
     "name": "stdout",
     "output_type": "stream",
     "text": [
      "esc\n"
     ]
    },
    {
     "name": "stderr",
     "output_type": "stream",
     "text": [
      "Traceback (most recent call last):\n",
      "  File \"c:\\Users\\dinab\\Self Driving Mario Cart\\Self-Driving-Mario-Kart\\mario_env\\Lib\\site-packages\\keyboard\\_generic.py\", line 22, in invoke_handlers\n",
      "    if handler(event):\n",
      "       ^^^^^^^^^^^^^^\n",
      "  File \"C:\\Users\\dinab\\AppData\\Local\\Temp\\ipykernel_11172\\1361161493.py\", line 31, in on_keyboard_event\n",
      "    return screenshot(event.name)\n",
      "           ^^^^^^^^^^^^^^^^^^^^^^\n",
      "  File \"C:\\Users\\dinab\\AppData\\Local\\Temp\\ipykernel_11172\\1361161493.py\", line 25, in screenshot\n",
      "    mss.tools.to_png(sct_img.rgb, sct_img.size, output=output)\n",
      "  File \"c:\\Users\\dinab\\Self Driving Mario Cart\\Self-Driving-Mario-Kart\\mario_env\\Lib\\site-packages\\mss\\tools.py\", line 54, in to_png\n",
      "    with open(output, \"wb\") as fileh:\n",
      "         ^^^^^^^^^^^^^^^^^^\n",
      "FileNotFoundError: [Errno 2] No such file or directory: 'deep_learning_data/esc/aa8d08da-9eb2-4470-99bf-677832ee1f13.png'\n"
     ]
    },
    {
     "name": "stdout",
     "output_type": "stream",
     "text": [
      "left\n",
      "left\n",
      "left\n"
     ]
    },
    {
     "ename": "KeyboardInterrupt",
     "evalue": "",
     "output_type": "error",
     "traceback": [
      "\u001b[1;31m---------------------------------------------------------------------------\u001b[0m",
      "\u001b[1;31mKeyboardInterrupt\u001b[0m                         Traceback (most recent call last)",
      "\u001b[1;32mc:\\Users\\dinab\\Self Driving Mario Cart\\Self-Driving-Mario-Kart\\deepLearning.ipynb Cell 1\u001b[0m line \u001b[0;36m4\n\u001b[0;32m     <a href='vscode-notebook-cell:/c%3A/Users/dinab/Self%20Driving%20Mario%20Cart/Self-Driving-Mario-Kart/deepLearning.ipynb#W0sZmlsZQ%3D%3D?line=38'>39</a>\u001b[0m \u001b[39mwith\u001b[39;00m mouse\u001b[39m.\u001b[39mListener(on_click\u001b[39m=\u001b[39mon_mouse_event) \u001b[39mas\u001b[39;00m listener:\n\u001b[0;32m     <a href='vscode-notebook-cell:/c%3A/Users/dinab/Self%20Driving%20Mario%20Cart/Self-Driving-Mario-Kart/deepLearning.ipynb#W0sZmlsZQ%3D%3D?line=39'>40</a>\u001b[0m     \u001b[39mprint\u001b[39m(\u001b[39m\"\u001b[39m\u001b[39mPress keys or click the mouse (Press \u001b[39m\u001b[39m'\u001b[39m\u001b[39mEsc\u001b[39m\u001b[39m'\u001b[39m\u001b[39m to exit)\u001b[39m\u001b[39m\"\u001b[39m)\n\u001b[1;32m---> <a href='vscode-notebook-cell:/c%3A/Users/dinab/Self%20Driving%20Mario%20Cart/Self-Driving-Mario-Kart/deepLearning.ipynb#W0sZmlsZQ%3D%3D?line=40'>41</a>\u001b[0m     keyboard\u001b[39m.\u001b[39;49mwait(\u001b[39m'\u001b[39;49m\u001b[39mesc\u001b[39;49m\u001b[39m'\u001b[39;49m)  \u001b[39m# Wait for the 'esc' key to exit the program\u001b[39;00m\n\u001b[0;32m     <a href='vscode-notebook-cell:/c%3A/Users/dinab/Self%20Driving%20Mario%20Cart/Self-Driving-Mario-Kart/deepLearning.ipynb#W0sZmlsZQ%3D%3D?line=41'>42</a>\u001b[0m     listener\u001b[39m.\u001b[39mstop()  \u001b[39m# Stop the mouse listener\u001b[39;00m\n\u001b[0;32m     <a href='vscode-notebook-cell:/c%3A/Users/dinab/Self%20Driving%20Mario%20Cart/Self-Driving-Mario-Kart/deepLearning.ipynb#W0sZmlsZQ%3D%3D?line=42'>43</a>\u001b[0m     keyboard\u001b[39m.\u001b[39munhook_all()  \u001b[39m# Unhook the keyboard events\u001b[39;00m\n",
      "File \u001b[1;32mc:\\Users\\dinab\\Self Driving Mario Cart\\Self-Driving-Mario-Kart\\mario_env\\Lib\\site-packages\\keyboard\\__init__.py:882\u001b[0m, in \u001b[0;36mwait\u001b[1;34m(hotkey, suppress, trigger_on_release)\u001b[0m\n\u001b[0;32m    880\u001b[0m     lock \u001b[39m=\u001b[39m _Event()\n\u001b[0;32m    881\u001b[0m     remove \u001b[39m=\u001b[39m add_hotkey(hotkey, \u001b[39mlambda\u001b[39;00m: lock\u001b[39m.\u001b[39mset(), suppress\u001b[39m=\u001b[39msuppress, trigger_on_release\u001b[39m=\u001b[39mtrigger_on_release)\n\u001b[1;32m--> 882\u001b[0m     lock\u001b[39m.\u001b[39;49mwait()\n\u001b[0;32m    883\u001b[0m     remove_hotkey(remove)\n\u001b[0;32m    884\u001b[0m \u001b[39melse\u001b[39;00m:\n",
      "File \u001b[1;32mc:\\Users\\dinab\\Self Driving Mario Cart\\Self-Driving-Mario-Kart\\mario_env\\Lib\\site-packages\\keyboard\\__init__.py:117\u001b[0m, in \u001b[0;36m_Event.wait\u001b[1;34m(self)\u001b[0m\n\u001b[0;32m    115\u001b[0m \u001b[39mdef\u001b[39;00m \u001b[39mwait\u001b[39m(\u001b[39mself\u001b[39m):\n\u001b[0;32m    116\u001b[0m     \u001b[39mwhile\u001b[39;00m \u001b[39mTrue\u001b[39;00m:\n\u001b[1;32m--> 117\u001b[0m         \u001b[39mif\u001b[39;00m _UninterruptibleEvent\u001b[39m.\u001b[39;49mwait(\u001b[39mself\u001b[39;49m, \u001b[39m0.5\u001b[39;49m):\n\u001b[0;32m    118\u001b[0m             \u001b[39mbreak\u001b[39;00m\n",
      "File \u001b[1;32m~\\AppData\\Local\\Programs\\Python\\Python311\\Lib\\threading.py:622\u001b[0m, in \u001b[0;36mEvent.wait\u001b[1;34m(self, timeout)\u001b[0m\n\u001b[0;32m    620\u001b[0m signaled \u001b[39m=\u001b[39m \u001b[39mself\u001b[39m\u001b[39m.\u001b[39m_flag\n\u001b[0;32m    621\u001b[0m \u001b[39mif\u001b[39;00m \u001b[39mnot\u001b[39;00m signaled:\n\u001b[1;32m--> 622\u001b[0m     signaled \u001b[39m=\u001b[39m \u001b[39mself\u001b[39;49m\u001b[39m.\u001b[39;49m_cond\u001b[39m.\u001b[39;49mwait(timeout)\n\u001b[0;32m    623\u001b[0m \u001b[39mreturn\u001b[39;00m signaled\n",
      "File \u001b[1;32m~\\AppData\\Local\\Programs\\Python\\Python311\\Lib\\threading.py:324\u001b[0m, in \u001b[0;36mCondition.wait\u001b[1;34m(self, timeout)\u001b[0m\n\u001b[0;32m    322\u001b[0m \u001b[39melse\u001b[39;00m:\n\u001b[0;32m    323\u001b[0m     \u001b[39mif\u001b[39;00m timeout \u001b[39m>\u001b[39m \u001b[39m0\u001b[39m:\n\u001b[1;32m--> 324\u001b[0m         gotit \u001b[39m=\u001b[39m waiter\u001b[39m.\u001b[39;49macquire(\u001b[39mTrue\u001b[39;49;00m, timeout)\n\u001b[0;32m    325\u001b[0m     \u001b[39melse\u001b[39;00m:\n\u001b[0;32m    326\u001b[0m         gotit \u001b[39m=\u001b[39m waiter\u001b[39m.\u001b[39macquire(\u001b[39mFalse\u001b[39;00m)\n",
      "\u001b[1;31mKeyboardInterrupt\u001b[0m: "
     ]
    },
    {
     "name": "stdout",
     "output_type": "stream",
     "text": [
      "ctrl\n"
     ]
    },
    {
     "name": "stderr",
     "output_type": "stream",
     "text": [
      "Traceback (most recent call last):\n",
      "  File \"c:\\Users\\dinab\\Self Driving Mario Cart\\Self-Driving-Mario-Kart\\mario_env\\Lib\\site-packages\\keyboard\\_generic.py\", line 22, in invoke_handlers\n",
      "    if handler(event):\n",
      "       ^^^^^^^^^^^^^^\n",
      "  File \"C:\\Users\\dinab\\AppData\\Local\\Temp\\ipykernel_11172\\1361161493.py\", line 31, in on_keyboard_event\n",
      "    return screenshot(event.name)\n",
      "           ^^^^^^^^^^^^^^^^^^^^^^\n",
      "  File \"C:\\Users\\dinab\\AppData\\Local\\Temp\\ipykernel_11172\\1361161493.py\", line 25, in screenshot\n",
      "    mss.tools.to_png(sct_img.rgb, sct_img.size, output=output)\n",
      "  File \"c:\\Users\\dinab\\Self Driving Mario Cart\\Self-Driving-Mario-Kart\\mario_env\\Lib\\site-packages\\mss\\tools.py\", line 54, in to_png\n",
      "    with open(output, \"wb\") as fileh:\n",
      "         ^^^^^^^^^^^^^^^^^^\n",
      "FileNotFoundError: [Errno 2] No such file or directory: 'deep_learning_data/ctrl/0bbf8f00-cf8e-48ed-9310-33e0067af8f4.png'\n"
     ]
    },
    {
     "name": "stdout",
     "output_type": "stream",
     "text": [
      "s\n"
     ]
    },
    {
     "name": "stderr",
     "output_type": "stream",
     "text": [
      "Traceback (most recent call last):\n",
      "  File \"c:\\Users\\dinab\\Self Driving Mario Cart\\Self-Driving-Mario-Kart\\mario_env\\Lib\\site-packages\\keyboard\\_generic.py\", line 22, in invoke_handlers\n",
      "    if handler(event):\n",
      "       ^^^^^^^^^^^^^^\n",
      "  File \"C:\\Users\\dinab\\AppData\\Local\\Temp\\ipykernel_11172\\1361161493.py\", line 31, in on_keyboard_event\n",
      "    return screenshot(event.name)\n",
      "           ^^^^^^^^^^^^^^^^^^^^^^\n",
      "  File \"C:\\Users\\dinab\\AppData\\Local\\Temp\\ipykernel_11172\\1361161493.py\", line 25, in screenshot\n",
      "    mss.tools.to_png(sct_img.rgb, sct_img.size, output=output)\n",
      "  File \"c:\\Users\\dinab\\Self Driving Mario Cart\\Self-Driving-Mario-Kart\\mario_env\\Lib\\site-packages\\mss\\tools.py\", line 54, in to_png\n",
      "    with open(output, \"wb\") as fileh:\n",
      "         ^^^^^^^^^^^^^^^^^^\n",
      "FileNotFoundError: [Errno 2] No such file or directory: 'deep_learning_data/s/7e61c94a-31cc-4623-adb9-8bb9dbf526d7.png'\n"
     ]
    },
    {
     "name": "stdout",
     "output_type": "stream",
     "text": [
      "ctrl\n"
     ]
    },
    {
     "name": "stderr",
     "output_type": "stream",
     "text": [
      "Traceback (most recent call last):\n",
      "  File \"c:\\Users\\dinab\\Self Driving Mario Cart\\Self-Driving-Mario-Kart\\mario_env\\Lib\\site-packages\\keyboard\\_generic.py\", line 22, in invoke_handlers\n",
      "    if handler(event):\n",
      "       ^^^^^^^^^^^^^^\n",
      "  File \"C:\\Users\\dinab\\AppData\\Local\\Temp\\ipykernel_11172\\1361161493.py\", line 31, in on_keyboard_event\n",
      "    return screenshot(event.name)\n",
      "           ^^^^^^^^^^^^^^^^^^^^^^\n",
      "  File \"C:\\Users\\dinab\\AppData\\Local\\Temp\\ipykernel_11172\\1361161493.py\", line 25, in screenshot\n",
      "    mss.tools.to_png(sct_img.rgb, sct_img.size, output=output)\n",
      "  File \"c:\\Users\\dinab\\Self Driving Mario Cart\\Self-Driving-Mario-Kart\\mario_env\\Lib\\site-packages\\mss\\tools.py\", line 54, in to_png\n",
      "    with open(output, \"wb\") as fileh:\n",
      "         ^^^^^^^^^^^^^^^^^^\n",
      "FileNotFoundError: [Errno 2] No such file or directory: 'deep_learning_data/ctrl/b6631171-2b6a-406b-bf29-734be3aec6c6.png'\n"
     ]
    },
    {
     "name": "stdout",
     "output_type": "stream",
     "text": [
      "s\n"
     ]
    },
    {
     "name": "stderr",
     "output_type": "stream",
     "text": [
      "Traceback (most recent call last):\n",
      "  File \"c:\\Users\\dinab\\Self Driving Mario Cart\\Self-Driving-Mario-Kart\\mario_env\\Lib\\site-packages\\keyboard\\_generic.py\", line 22, in invoke_handlers\n",
      "    if handler(event):\n",
      "       ^^^^^^^^^^^^^^\n",
      "  File \"C:\\Users\\dinab\\AppData\\Local\\Temp\\ipykernel_11172\\1361161493.py\", line 31, in on_keyboard_event\n",
      "    return screenshot(event.name)\n",
      "           ^^^^^^^^^^^^^^^^^^^^^^\n",
      "  File \"C:\\Users\\dinab\\AppData\\Local\\Temp\\ipykernel_11172\\1361161493.py\", line 25, in screenshot\n",
      "    mss.tools.to_png(sct_img.rgb, sct_img.size, output=output)\n",
      "  File \"c:\\Users\\dinab\\Self Driving Mario Cart\\Self-Driving-Mario-Kart\\mario_env\\Lib\\site-packages\\mss\\tools.py\", line 54, in to_png\n",
      "    with open(output, \"wb\") as fileh:\n",
      "         ^^^^^^^^^^^^^^^^^^\n",
      "FileNotFoundError: [Errno 2] No such file or directory: 'deep_learning_data/s/06ca8e8c-a6b3-4c0d-8721-93f3d0934483.png'\n"
     ]
    },
    {
     "name": "stdout",
     "output_type": "stream",
     "text": [
      "ctrl\n"
     ]
    },
    {
     "name": "stderr",
     "output_type": "stream",
     "text": [
      "Traceback (most recent call last):\n",
      "  File \"c:\\Users\\dinab\\Self Driving Mario Cart\\Self-Driving-Mario-Kart\\mario_env\\Lib\\site-packages\\keyboard\\_generic.py\", line 22, in invoke_handlers\n",
      "    if handler(event):\n",
      "       ^^^^^^^^^^^^^^\n",
      "  File \"C:\\Users\\dinab\\AppData\\Local\\Temp\\ipykernel_11172\\1361161493.py\", line 31, in on_keyboard_event\n",
      "    return screenshot(event.name)\n",
      "           ^^^^^^^^^^^^^^^^^^^^^^\n",
      "  File \"C:\\Users\\dinab\\AppData\\Local\\Temp\\ipykernel_11172\\1361161493.py\", line 25, in screenshot\n",
      "    mss.tools.to_png(sct_img.rgb, sct_img.size, output=output)\n",
      "  File \"c:\\Users\\dinab\\Self Driving Mario Cart\\Self-Driving-Mario-Kart\\mario_env\\Lib\\site-packages\\mss\\tools.py\", line 54, in to_png\n",
      "    with open(output, \"wb\") as fileh:\n",
      "         ^^^^^^^^^^^^^^^^^^\n",
      "FileNotFoundError: [Errno 2] No such file or directory: 'deep_learning_data/ctrl/f6720d34-7a4d-4d40-8cb9-b1b9ca99f739.png'\n"
     ]
    },
    {
     "name": "stdout",
     "output_type": "stream",
     "text": [
      "s\n"
     ]
    },
    {
     "name": "stderr",
     "output_type": "stream",
     "text": [
      "Traceback (most recent call last):\n",
      "  File \"c:\\Users\\dinab\\Self Driving Mario Cart\\Self-Driving-Mario-Kart\\mario_env\\Lib\\site-packages\\keyboard\\_generic.py\", line 22, in invoke_handlers\n",
      "    if handler(event):\n",
      "       ^^^^^^^^^^^^^^\n",
      "  File \"C:\\Users\\dinab\\AppData\\Local\\Temp\\ipykernel_11172\\1361161493.py\", line 31, in on_keyboard_event\n",
      "    return screenshot(event.name)\n",
      "           ^^^^^^^^^^^^^^^^^^^^^^\n",
      "  File \"C:\\Users\\dinab\\AppData\\Local\\Temp\\ipykernel_11172\\1361161493.py\", line 25, in screenshot\n",
      "    mss.tools.to_png(sct_img.rgb, sct_img.size, output=output)\n",
      "  File \"c:\\Users\\dinab\\Self Driving Mario Cart\\Self-Driving-Mario-Kart\\mario_env\\Lib\\site-packages\\mss\\tools.py\", line 54, in to_png\n",
      "    with open(output, \"wb\") as fileh:\n",
      "         ^^^^^^^^^^^^^^^^^^\n",
      "FileNotFoundError: [Errno 2] No such file or directory: 'deep_learning_data/s/0f1d388e-88d6-4832-b589-726fecad06da.png'\n"
     ]
    },
    {
     "name": "stdout",
     "output_type": "stream",
     "text": [
      "s\n"
     ]
    },
    {
     "name": "stderr",
     "output_type": "stream",
     "text": [
      "Traceback (most recent call last):\n",
      "  File \"c:\\Users\\dinab\\Self Driving Mario Cart\\Self-Driving-Mario-Kart\\mario_env\\Lib\\site-packages\\keyboard\\_generic.py\", line 22, in invoke_handlers\n",
      "    if handler(event):\n",
      "       ^^^^^^^^^^^^^^\n",
      "  File \"C:\\Users\\dinab\\AppData\\Local\\Temp\\ipykernel_11172\\1361161493.py\", line 31, in on_keyboard_event\n",
      "    return screenshot(event.name)\n",
      "           ^^^^^^^^^^^^^^^^^^^^^^\n",
      "  File \"C:\\Users\\dinab\\AppData\\Local\\Temp\\ipykernel_11172\\1361161493.py\", line 25, in screenshot\n",
      "    mss.tools.to_png(sct_img.rgb, sct_img.size, output=output)\n",
      "  File \"c:\\Users\\dinab\\Self Driving Mario Cart\\Self-Driving-Mario-Kart\\mario_env\\Lib\\site-packages\\mss\\tools.py\", line 54, in to_png\n",
      "    with open(output, \"wb\") as fileh:\n",
      "         ^^^^^^^^^^^^^^^^^^\n",
      "FileNotFoundError: [Errno 2] No such file or directory: 'deep_learning_data/s/14e78bba-9327-4600-8fd9-bc672330093a.png'\n"
     ]
    },
    {
     "name": "stdout",
     "output_type": "stream",
     "text": [
      "ctrl\n"
     ]
    },
    {
     "name": "stderr",
     "output_type": "stream",
     "text": [
      "Traceback (most recent call last):\n",
      "  File \"c:\\Users\\dinab\\Self Driving Mario Cart\\Self-Driving-Mario-Kart\\mario_env\\Lib\\site-packages\\keyboard\\_generic.py\", line 22, in invoke_handlers\n",
      "    if handler(event):\n",
      "       ^^^^^^^^^^^^^^\n",
      "  File \"C:\\Users\\dinab\\AppData\\Local\\Temp\\ipykernel_11172\\1361161493.py\", line 31, in on_keyboard_event\n",
      "    return screenshot(event.name)\n",
      "           ^^^^^^^^^^^^^^^^^^^^^^\n",
      "  File \"C:\\Users\\dinab\\AppData\\Local\\Temp\\ipykernel_11172\\1361161493.py\", line 25, in screenshot\n",
      "    mss.tools.to_png(sct_img.rgb, sct_img.size, output=output)\n",
      "  File \"c:\\Users\\dinab\\Self Driving Mario Cart\\Self-Driving-Mario-Kart\\mario_env\\Lib\\site-packages\\mss\\tools.py\", line 54, in to_png\n",
      "    with open(output, \"wb\") as fileh:\n",
      "         ^^^^^^^^^^^^^^^^^^\n",
      "FileNotFoundError: [Errno 2] No such file or directory: 'deep_learning_data/ctrl/6387efd8-2ece-437d-a12a-d8c7f5df8afc.png'\n"
     ]
    },
    {
     "name": "stdout",
     "output_type": "stream",
     "text": [
      "s\n"
     ]
    },
    {
     "name": "stderr",
     "output_type": "stream",
     "text": [
      "Traceback (most recent call last):\n",
      "  File \"c:\\Users\\dinab\\Self Driving Mario Cart\\Self-Driving-Mario-Kart\\mario_env\\Lib\\site-packages\\keyboard\\_generic.py\", line 22, in invoke_handlers\n",
      "    if handler(event):\n",
      "       ^^^^^^^^^^^^^^\n",
      "  File \"C:\\Users\\dinab\\AppData\\Local\\Temp\\ipykernel_11172\\1361161493.py\", line 31, in on_keyboard_event\n",
      "    return screenshot(event.name)\n",
      "           ^^^^^^^^^^^^^^^^^^^^^^\n",
      "  File \"C:\\Users\\dinab\\AppData\\Local\\Temp\\ipykernel_11172\\1361161493.py\", line 25, in screenshot\n",
      "    mss.tools.to_png(sct_img.rgb, sct_img.size, output=output)\n",
      "  File \"c:\\Users\\dinab\\Self Driving Mario Cart\\Self-Driving-Mario-Kart\\mario_env\\Lib\\site-packages\\mss\\tools.py\", line 54, in to_png\n",
      "    with open(output, \"wb\") as fileh:\n",
      "         ^^^^^^^^^^^^^^^^^^\n",
      "FileNotFoundError: [Errno 2] No such file or directory: 'deep_learning_data/s/2e758ef4-800c-4465-8d47-a0fd1ba878bf.png'\n"
     ]
    },
    {
     "name": "stdout",
     "output_type": "stream",
     "text": [
      "s\n"
     ]
    },
    {
     "name": "stderr",
     "output_type": "stream",
     "text": [
      "Traceback (most recent call last):\n",
      "  File \"c:\\Users\\dinab\\Self Driving Mario Cart\\Self-Driving-Mario-Kart\\mario_env\\Lib\\site-packages\\keyboard\\_generic.py\", line 22, in invoke_handlers\n",
      "    if handler(event):\n",
      "       ^^^^^^^^^^^^^^\n",
      "  File \"C:\\Users\\dinab\\AppData\\Local\\Temp\\ipykernel_11172\\1361161493.py\", line 31, in on_keyboard_event\n",
      "    return screenshot(event.name)\n",
      "           ^^^^^^^^^^^^^^^^^^^^^^\n",
      "  File \"C:\\Users\\dinab\\AppData\\Local\\Temp\\ipykernel_11172\\1361161493.py\", line 25, in screenshot\n",
      "    mss.tools.to_png(sct_img.rgb, sct_img.size, output=output)\n",
      "  File \"c:\\Users\\dinab\\Self Driving Mario Cart\\Self-Driving-Mario-Kart\\mario_env\\Lib\\site-packages\\mss\\tools.py\", line 54, in to_png\n",
      "    with open(output, \"wb\") as fileh:\n",
      "         ^^^^^^^^^^^^^^^^^^\n",
      "FileNotFoundError: [Errno 2] No such file or directory: 'deep_learning_data/s/9d84125a-eb65-47d5-88e8-a2b7c7422da9.png'\n"
     ]
    },
    {
     "name": "stdout",
     "output_type": "stream",
     "text": [
      "p\n"
     ]
    },
    {
     "name": "stderr",
     "output_type": "stream",
     "text": [
      "Traceback (most recent call last):\n",
      "  File \"c:\\Users\\dinab\\Self Driving Mario Cart\\Self-Driving-Mario-Kart\\mario_env\\Lib\\site-packages\\keyboard\\_generic.py\", line 22, in invoke_handlers\n",
      "    if handler(event):\n",
      "       ^^^^^^^^^^^^^^\n",
      "  File \"C:\\Users\\dinab\\AppData\\Local\\Temp\\ipykernel_11172\\1361161493.py\", line 31, in on_keyboard_event\n",
      "    return screenshot(event.name)\n",
      "           ^^^^^^^^^^^^^^^^^^^^^^\n",
      "  File \"C:\\Users\\dinab\\AppData\\Local\\Temp\\ipykernel_11172\\1361161493.py\", line 25, in screenshot\n",
      "    mss.tools.to_png(sct_img.rgb, sct_img.size, output=output)\n",
      "  File \"c:\\Users\\dinab\\Self Driving Mario Cart\\Self-Driving-Mario-Kart\\mario_env\\Lib\\site-packages\\mss\\tools.py\", line 54, in to_png\n",
      "    with open(output, \"wb\") as fileh:\n",
      "         ^^^^^^^^^^^^^^^^^^\n",
      "FileNotFoundError: [Errno 2] No such file or directory: 'deep_learning_data/p/ccf51b51-2c5a-4179-b654-b9d0b259a3fb.png'\n"
     ]
    },
    {
     "name": "stdout",
     "output_type": "stream",
     "text": [
      "q\n",
      "p\n"
     ]
    },
    {
     "name": "stderr",
     "output_type": "stream",
     "text": [
      "Traceback (most recent call last):\n",
      "  File \"c:\\Users\\dinab\\Self Driving Mario Cart\\Self-Driving-Mario-Kart\\mario_env\\Lib\\site-packages\\keyboard\\_generic.py\", line 22, in invoke_handlers\n",
      "    if handler(event):\n",
      "       ^^^^^^^^^^^^^^\n",
      "  File \"C:\\Users\\dinab\\AppData\\Local\\Temp\\ipykernel_11172\\1361161493.py\", line 31, in on_keyboard_event\n",
      "    return screenshot(event.name)\n",
      "           ^^^^^^^^^^^^^^^^^^^^^^\n",
      "  File \"C:\\Users\\dinab\\AppData\\Local\\Temp\\ipykernel_11172\\1361161493.py\", line 25, in screenshot\n",
      "    mss.tools.to_png(sct_img.rgb, sct_img.size, output=output)\n",
      "  File \"c:\\Users\\dinab\\Self Driving Mario Cart\\Self-Driving-Mario-Kart\\mario_env\\Lib\\site-packages\\mss\\tools.py\", line 54, in to_png\n",
      "    with open(output, \"wb\") as fileh:\n",
      "         ^^^^^^^^^^^^^^^^^^\n",
      "FileNotFoundError: [Errno 2] No such file or directory: 'deep_learning_data/p/851c507d-481d-4426-9de3-69367a581e9c.png'\n"
     ]
    },
    {
     "name": "stdout",
     "output_type": "stream",
     "text": [
      "q\n",
      "c\n"
     ]
    },
    {
     "name": "stderr",
     "output_type": "stream",
     "text": [
      "Traceback (most recent call last):\n",
      "  File \"c:\\Users\\dinab\\Self Driving Mario Cart\\Self-Driving-Mario-Kart\\mario_env\\Lib\\site-packages\\keyboard\\_generic.py\", line 22, in invoke_handlers\n",
      "    if handler(event):\n",
      "       ^^^^^^^^^^^^^^\n",
      "  File \"C:\\Users\\dinab\\AppData\\Local\\Temp\\ipykernel_11172\\1361161493.py\", line 31, in on_keyboard_event\n",
      "    return screenshot(event.name)\n",
      "           ^^^^^^^^^^^^^^^^^^^^^^\n",
      "  File \"C:\\Users\\dinab\\AppData\\Local\\Temp\\ipykernel_11172\\1361161493.py\", line 25, in screenshot\n",
      "    mss.tools.to_png(sct_img.rgb, sct_img.size, output=output)\n",
      "  File \"c:\\Users\\dinab\\Self Driving Mario Cart\\Self-Driving-Mario-Kart\\mario_env\\Lib\\site-packages\\mss\\tools.py\", line 54, in to_png\n",
      "    with open(output, \"wb\") as fileh:\n",
      "         ^^^^^^^^^^^^^^^^^^\n",
      "FileNotFoundError: [Errno 2] No such file or directory: 'deep_learning_data/c/b1dd0996-925f-4922-bd07-c057a1e01959.png'\n"
     ]
    },
    {
     "name": "stdout",
     "output_type": "stream",
     "text": [
      "e\n"
     ]
    },
    {
     "name": "stderr",
     "output_type": "stream",
     "text": [
      "Traceback (most recent call last):\n",
      "  File \"c:\\Users\\dinab\\Self Driving Mario Cart\\Self-Driving-Mario-Kart\\mario_env\\Lib\\site-packages\\keyboard\\_generic.py\", line 22, in invoke_handlers\n",
      "    if handler(event):\n",
      "       ^^^^^^^^^^^^^^\n",
      "  File \"C:\\Users\\dinab\\AppData\\Local\\Temp\\ipykernel_11172\\1361161493.py\", line 31, in on_keyboard_event\n",
      "    return screenshot(event.name)\n",
      "           ^^^^^^^^^^^^^^^^^^^^^^\n",
      "  File \"C:\\Users\\dinab\\AppData\\Local\\Temp\\ipykernel_11172\\1361161493.py\", line 25, in screenshot\n",
      "    mss.tools.to_png(sct_img.rgb, sct_img.size, output=output)\n",
      "  File \"c:\\Users\\dinab\\Self Driving Mario Cart\\Self-Driving-Mario-Kart\\mario_env\\Lib\\site-packages\\mss\\tools.py\", line 54, in to_png\n",
      "    with open(output, \"wb\") as fileh:\n",
      "         ^^^^^^^^^^^^^^^^^^\n",
      "FileNotFoundError: [Errno 2] No such file or directory: 'deep_learning_data/e/eb598814-7e42-4f6b-9768-b75f29cf4b42.png'\n"
     ]
    },
    {
     "name": "stdout",
     "output_type": "stream",
     "text": [
      "c\n"
     ]
    },
    {
     "name": "stderr",
     "output_type": "stream",
     "text": [
      "Traceback (most recent call last):\n",
      "  File \"c:\\Users\\dinab\\Self Driving Mario Cart\\Self-Driving-Mario-Kart\\mario_env\\Lib\\site-packages\\keyboard\\_generic.py\", line 22, in invoke_handlers\n",
      "    if handler(event):\n",
      "       ^^^^^^^^^^^^^^\n",
      "  File \"C:\\Users\\dinab\\AppData\\Local\\Temp\\ipykernel_11172\\1361161493.py\", line 31, in on_keyboard_event\n",
      "    return screenshot(event.name)\n",
      "           ^^^^^^^^^^^^^^^^^^^^^^\n",
      "  File \"C:\\Users\\dinab\\AppData\\Local\\Temp\\ipykernel_11172\\1361161493.py\", line 25, in screenshot\n",
      "    mss.tools.to_png(sct_img.rgb, sct_img.size, output=output)\n",
      "  File \"c:\\Users\\dinab\\Self Driving Mario Cart\\Self-Driving-Mario-Kart\\mario_env\\Lib\\site-packages\\mss\\tools.py\", line 54, in to_png\n",
      "    with open(output, \"wb\") as fileh:\n",
      "         ^^^^^^^^^^^^^^^^^^\n",
      "FileNotFoundError: [Errno 2] No such file or directory: 'deep_learning_data/c/a8101fa6-14e6-46a3-a15a-4770d5ab470a.png'\n"
     ]
    },
    {
     "name": "stdout",
     "output_type": "stream",
     "text": [
      "e\n"
     ]
    },
    {
     "name": "stderr",
     "output_type": "stream",
     "text": [
      "Traceback (most recent call last):\n",
      "  File \"c:\\Users\\dinab\\Self Driving Mario Cart\\Self-Driving-Mario-Kart\\mario_env\\Lib\\site-packages\\keyboard\\_generic.py\", line 22, in invoke_handlers\n",
      "    if handler(event):\n",
      "       ^^^^^^^^^^^^^^\n",
      "  File \"C:\\Users\\dinab\\AppData\\Local\\Temp\\ipykernel_11172\\1361161493.py\", line 31, in on_keyboard_event\n",
      "    return screenshot(event.name)\n",
      "           ^^^^^^^^^^^^^^^^^^^^^^\n",
      "  File \"C:\\Users\\dinab\\AppData\\Local\\Temp\\ipykernel_11172\\1361161493.py\", line 25, in screenshot\n",
      "    mss.tools.to_png(sct_img.rgb, sct_img.size, output=output)\n",
      "  File \"c:\\Users\\dinab\\Self Driving Mario Cart\\Self-Driving-Mario-Kart\\mario_env\\Lib\\site-packages\\mss\\tools.py\", line 54, in to_png\n",
      "    with open(output, \"wb\") as fileh:\n",
      "         ^^^^^^^^^^^^^^^^^^\n",
      "FileNotFoundError: [Errno 2] No such file or directory: 'deep_learning_data/e/4edf54e0-c570-4960-9e79-7ba4b03fab2b.png'\n"
     ]
    },
    {
     "name": "stdout",
     "output_type": "stream",
     "text": [
      "s\n"
     ]
    },
    {
     "name": "stderr",
     "output_type": "stream",
     "text": [
      "Traceback (most recent call last):\n",
      "  File \"c:\\Users\\dinab\\Self Driving Mario Cart\\Self-Driving-Mario-Kart\\mario_env\\Lib\\site-packages\\keyboard\\_generic.py\", line 22, in invoke_handlers\n",
      "    if handler(event):\n",
      "       ^^^^^^^^^^^^^^\n",
      "  File \"C:\\Users\\dinab\\AppData\\Local\\Temp\\ipykernel_11172\\1361161493.py\", line 31, in on_keyboard_event\n",
      "    return screenshot(event.name)\n",
      "           ^^^^^^^^^^^^^^^^^^^^^^\n",
      "  File \"C:\\Users\\dinab\\AppData\\Local\\Temp\\ipykernel_11172\\1361161493.py\", line 25, in screenshot\n",
      "    mss.tools.to_png(sct_img.rgb, sct_img.size, output=output)\n",
      "  File \"c:\\Users\\dinab\\Self Driving Mario Cart\\Self-Driving-Mario-Kart\\mario_env\\Lib\\site-packages\\mss\\tools.py\", line 54, in to_png\n",
      "    with open(output, \"wb\") as fileh:\n",
      "         ^^^^^^^^^^^^^^^^^^\n",
      "FileNotFoundError: [Errno 2] No such file or directory: 'deep_learning_data/s/d0656997-0e51-4a56-8d16-6b7feae32370.png'\n"
     ]
    },
    {
     "name": "stdout",
     "output_type": "stream",
     "text": [
      "s\n"
     ]
    },
    {
     "name": "stderr",
     "output_type": "stream",
     "text": [
      "Traceback (most recent call last):\n",
      "  File \"c:\\Users\\dinab\\Self Driving Mario Cart\\Self-Driving-Mario-Kart\\mario_env\\Lib\\site-packages\\keyboard\\_generic.py\", line 22, in invoke_handlers\n",
      "    if handler(event):\n",
      "       ^^^^^^^^^^^^^^\n",
      "  File \"C:\\Users\\dinab\\AppData\\Local\\Temp\\ipykernel_11172\\1361161493.py\", line 31, in on_keyboard_event\n",
      "    return screenshot(event.name)\n",
      "           ^^^^^^^^^^^^^^^^^^^^^^\n",
      "  File \"C:\\Users\\dinab\\AppData\\Local\\Temp\\ipykernel_11172\\1361161493.py\", line 25, in screenshot\n",
      "    mss.tools.to_png(sct_img.rgb, sct_img.size, output=output)\n",
      "  File \"c:\\Users\\dinab\\Self Driving Mario Cart\\Self-Driving-Mario-Kart\\mario_env\\Lib\\site-packages\\mss\\tools.py\", line 54, in to_png\n",
      "    with open(output, \"wb\") as fileh:\n",
      "         ^^^^^^^^^^^^^^^^^^\n",
      "FileNotFoundError: [Errno 2] No such file or directory: 'deep_learning_data/s/cbb7eed2-e7ed-48a7-abbb-c1b2d8c431f4.png'\n"
     ]
    },
    {
     "name": "stdout",
     "output_type": "stream",
     "text": [
      "p\n"
     ]
    },
    {
     "name": "stderr",
     "output_type": "stream",
     "text": [
      "Traceback (most recent call last):\n",
      "  File \"c:\\Users\\dinab\\Self Driving Mario Cart\\Self-Driving-Mario-Kart\\mario_env\\Lib\\site-packages\\keyboard\\_generic.py\", line 22, in invoke_handlers\n",
      "    if handler(event):\n",
      "       ^^^^^^^^^^^^^^\n",
      "  File \"C:\\Users\\dinab\\AppData\\Local\\Temp\\ipykernel_11172\\1361161493.py\", line 31, in on_keyboard_event\n",
      "    return screenshot(event.name)\n",
      "           ^^^^^^^^^^^^^^^^^^^^^^\n",
      "  File \"C:\\Users\\dinab\\AppData\\Local\\Temp\\ipykernel_11172\\1361161493.py\", line 25, in screenshot\n",
      "    mss.tools.to_png(sct_img.rgb, sct_img.size, output=output)\n",
      "  File \"c:\\Users\\dinab\\Self Driving Mario Cart\\Self-Driving-Mario-Kart\\mario_env\\Lib\\site-packages\\mss\\tools.py\", line 54, in to_png\n",
      "    with open(output, \"wb\") as fileh:\n",
      "         ^^^^^^^^^^^^^^^^^^\n",
      "FileNotFoundError: [Errno 2] No such file or directory: 'deep_learning_data/p/d2c035f4-428c-4fc8-86c2-f1407b2fed50.png'\n"
     ]
    },
    {
     "name": "stdout",
     "output_type": "stream",
     "text": [
      "a\n"
     ]
    },
    {
     "name": "stderr",
     "output_type": "stream",
     "text": [
      "Traceback (most recent call last):\n",
      "  File \"c:\\Users\\dinab\\Self Driving Mario Cart\\Self-Driving-Mario-Kart\\mario_env\\Lib\\site-packages\\keyboard\\_generic.py\", line 22, in invoke_handlers\n",
      "    if handler(event):\n",
      "       ^^^^^^^^^^^^^^\n",
      "  File \"C:\\Users\\dinab\\AppData\\Local\\Temp\\ipykernel_11172\\1361161493.py\", line 31, in on_keyboard_event\n",
      "    return screenshot(event.name)\n",
      "           ^^^^^^^^^^^^^^^^^^^^^^\n",
      "  File \"C:\\Users\\dinab\\AppData\\Local\\Temp\\ipykernel_11172\\1361161493.py\", line 25, in screenshot\n",
      "    mss.tools.to_png(sct_img.rgb, sct_img.size, output=output)\n",
      "  File \"c:\\Users\\dinab\\Self Driving Mario Cart\\Self-Driving-Mario-Kart\\mario_env\\Lib\\site-packages\\mss\\tools.py\", line 54, in to_png\n",
      "    with open(output, \"wb\") as fileh:\n",
      "         ^^^^^^^^^^^^^^^^^^\n",
      "FileNotFoundError: [Errno 2] No such file or directory: 'deep_learning_data/a/7be22a3c-aeb6-449a-a4ba-09e49977b255.png'\n"
     ]
    },
    {
     "name": "stdout",
     "output_type": "stream",
     "text": [
      "p\n"
     ]
    },
    {
     "name": "stderr",
     "output_type": "stream",
     "text": [
      "Traceback (most recent call last):\n",
      "  File \"c:\\Users\\dinab\\Self Driving Mario Cart\\Self-Driving-Mario-Kart\\mario_env\\Lib\\site-packages\\keyboard\\_generic.py\", line 22, in invoke_handlers\n",
      "    if handler(event):\n",
      "       ^^^^^^^^^^^^^^\n",
      "  File \"C:\\Users\\dinab\\AppData\\Local\\Temp\\ipykernel_11172\\1361161493.py\", line 31, in on_keyboard_event\n",
      "    return screenshot(event.name)\n",
      "           ^^^^^^^^^^^^^^^^^^^^^^\n",
      "  File \"C:\\Users\\dinab\\AppData\\Local\\Temp\\ipykernel_11172\\1361161493.py\", line 25, in screenshot\n",
      "    mss.tools.to_png(sct_img.rgb, sct_img.size, output=output)\n",
      "  File \"c:\\Users\\dinab\\Self Driving Mario Cart\\Self-Driving-Mario-Kart\\mario_env\\Lib\\site-packages\\mss\\tools.py\", line 54, in to_png\n",
      "    with open(output, \"wb\") as fileh:\n",
      "         ^^^^^^^^^^^^^^^^^^\n",
      "FileNotFoundError: [Errno 2] No such file or directory: 'deep_learning_data/p/329c1ccc-0be1-4839-8de2-6fb4243a8379.png'\n"
     ]
    },
    {
     "name": "stdout",
     "output_type": "stream",
     "text": [
      "a\n"
     ]
    }
   ],
   "source": [
    "import cv2 as cv\n",
    "import numpy as np\n",
    "import matplotlib.pyplot as plt\n",
    "import mss.tools\n",
    "import time\n",
    "import uuid\n",
    "import keyboard\n",
    "import math\n",
    "import pyautogui\n",
    "import time\n",
    "import mss.tools\n",
    "import uuid\n",
    "import keyboard\n",
    "from pynput import mouse\n",
    "\n",
    "time.sleep(5)\n",
    "\n",
    "def screenshot(folder):\n",
    "    with mss.mss() as sct:\n",
    "        time.sleep(1)\n",
    "        monitor_info = sct.monitors[0]\n",
    "        top_margin = (monitor_info[\"height\"] // 3) + 50\n",
    "        monitor = {\"top\": monitor_info[\"top\"] + top_margin, \"left\": monitor_info[\"left\"] + 55, \"width\": monitor_info[\"width\"] - 120, \"height\": (monitor_info[\"height\"] * 2 // 3)-105}\n",
    "        output = f\"deep_learning_data/{folder}/{str(uuid.uuid4())}.png\".format(**monitor)\n",
    "        sct_img = sct.grab(monitor)\n",
    "        mss.tools.to_png(sct_img.rgb, sct_img.size, output=output)\n",
    "    return output\n",
    "        \n",
    "\n",
    "def on_keyboard_event(event):\n",
    "    print(f\"{event.name}\")\n",
    "    return screenshot(event.name)\n",
    "    \n",
    "def on_mouse_event(x, y, button, pressed):    \n",
    "    print(f\"{button.name}\")\n",
    "    return screenshot('forward')\n",
    "\n",
    "keyboard.hook(on_keyboard_event)\n",
    "\n",
    "with mouse.Listener(on_click=on_mouse_event) as listener:\n",
    "    print(\"Press keys or click the mouse (Press 'Esc' to exit)\")\n",
    "    keyboard.wait('space')  # Wait for the 'esc' key to exit the program\n",
    "    listener.stop()  # Stop the mouse listener\n",
    "    keyboard.unhook_all()  # Unhook the keyboard eventsdq"
   ]
  }
 ],
 "metadata": {
  "kernelspec": {
   "display_name": "mario_env",
   "language": "python",
   "name": "python3"
  },
  "language_info": {
   "codemirror_mode": {
    "name": "ipython",
    "version": 3
   },
   "file_extension": ".py",
   "mimetype": "text/x-python",
   "name": "python",
   "nbconvert_exporter": "python",
   "pygments_lexer": "ipython3",
   "version": "3.11.5"
  }
 },
 "nbformat": 4,
 "nbformat_minor": 2
}
