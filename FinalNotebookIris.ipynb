{
 "cells": [
  {
   "cell_type": "code",
   "execution_count": 5,
   "metadata": {},
   "outputs": [
    {
     "name": "stdout",
     "output_type": "stream",
     "text": [
      "Distance between the points: 13.0\n"
     ]
    }
   ],
   "source": [
    "import cv2 as cv\n",
    "import numpy as np\n",
    "import math\n",
    "\n",
    "def get_closest_lines_coordinates():\n",
    "    img_orig = cv.imread('testingDataset/655f85fd-f76c-4e5b-8cc4-0faa511f4965.png')    \n",
    "    img_rgb = cv.cvtColor(img_orig, cv.COLOR_BGR2RGB)\n",
    "    img_blur = cv.blur(img_orig, ksize = (5, 5))\n",
    "    img_canny = cv.Canny(img_blur, threshold1=121.6, threshold2=180.9)\n",
    "    cdst = cv.cvtColor(img_rgb, cv.COLOR_RGB2GRAY)\n",
    "    linesP = cv.HoughLinesP(img_canny, 1, np.pi / 250, 90, None, 94.6, 20.5)\n",
    "    if linesP is not None:\n",
    "        y = []\n",
    "        x = []\n",
    "        for line in linesP:\n",
    "            x1, y1, x2, y2 = line[0]\n",
    "            y.append(y1)\n",
    "            y.append(y2)\n",
    "            x.append(x1)\n",
    "            x.append(x2)\n",
    "\n",
    "        # Find the indices of the top 2 minimum y values\n",
    "        top_2_min_indices = sorted(range(len(y)), key=lambda k: y[k])[:2]\n",
    "\n",
    "        # Get the corresponding x values for the top 2 minimum y values\n",
    "        matching_x_values = [x[index] for index in top_2_min_indices]\n",
    "\n",
    "        # Extract coordinates\n",
    "        x1, y1 = matching_x_values[0], y[top_2_min_indices[0]]\n",
    "        x2, y2 = matching_x_values[1], y[top_2_min_indices[1]]\n",
    "\n",
    "        # Calculate Euclidean distance\n",
    "        distance = math.sqrt((x2 - x1)**2 + (y2 - y1)**2)\n",
    "\n",
    "        print(\"Distance between the points:\", distance)\n",
    "\n",
    "        center = distance / 2\n",
    "\n",
    "        cv.circle(cdst, (x1, y1), 10, (0, 0, 255), -1)      # Mark ending point in red\n",
    "        cv.circle(cdst, (x2, y2), 10, (0, 0, 255), -1)      # Mark ending point in red\n",
    "\n",
    "        cv.imshow(\"Detected Lines (in red) - Probabilistic Line Transform\", cdst)\n",
    "        cv.waitKey()\n",
    "\n",
    "get_closest_lines_coordinates()"
   ]
  },
  {
   "cell_type": "code",
   "execution_count": 3,
   "metadata": {},
   "outputs": [
    {
     "name": "stdout",
     "output_type": "stream",
     "text": [
      "Collecting pynput\n",
      "  Downloading pynput-1.7.6-py2.py3-none-any.whl (89 kB)\n",
      "     ---------------------------------------- 89.2/89.2 kB 2.5 MB/s eta 0:00:00\n",
      "Requirement already satisfied: six in c:\\users\\iris loret\\appdata\\roaming\\python\\python311\\site-packages (from pynput) (1.16.0)\n",
      "Installing collected packages: pynput\n",
      "Successfully installed pynput-1.7.6\n",
      "Note: you may need to restart the kernel to use updated packages.\n"
     ]
    },
    {
     "name": "stderr",
     "output_type": "stream",
     "text": [
      "\n",
      "[notice] A new release of pip is available: 23.2.1 -> 23.3.1\n",
      "[notice] To update, run: python.exe -m pip install --upgrade pip\n"
     ]
    }
   ],
   "source": [
    "%pip install pynput"
   ]
  },
  {
   "cell_type": "code",
   "execution_count": 12,
   "metadata": {},
   "outputs": [],
   "source": [
    "import keyboard\n",
    "from pynput import mouse\n",
    "\n",
    "def on_keyboard_event(event):\n",
    "    print(f\"{event.name}\")\n",
    "\n",
    "def on_mouse_event(x, y, button, pressed):\n",
    "    print(\"forward\")\n",
    "   \n",
    "\n",
    "keyboard.hook(on_keyboard_event)\n",
    "\n",
    "with mouse.Listener(on_click=on_mouse_event) as listener:\n",
    "    keyboard.wait('esc')  # Wait for the 'esc' key to exit the program\n",
    "\n",
    "    listener.stop()  # Stop the mouse listener\n",
    "    keyboard.unhook_all()  # Unhook the keyboard events\n"
   ]
  }
 ],
 "metadata": {
  "kernelspec": {
   "display_name": "Python 3",
   "language": "python",
   "name": "python3"
  },
  "language_info": {
   "codemirror_mode": {
    "name": "ipython",
    "version": 3
   },
   "file_extension": ".py",
   "mimetype": "text/x-python",
   "name": "python",
   "nbconvert_exporter": "python",
   "pygments_lexer": "ipython3",
   "version": "3.11.0"
  }
 },
 "nbformat": 4,
 "nbformat_minor": 2
}
