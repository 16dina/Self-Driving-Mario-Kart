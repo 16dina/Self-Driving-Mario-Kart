{
 "cells": [
  {
   "cell_type": "code",
   "execution_count": 5,
   "metadata": {},
   "outputs": [
    {
     "name": "stdout",
     "output_type": "stream",
     "text": [
      "Distance between the points: 13.0\n"
     ]
    }
   ],
   "source": [
    "import cv2 as cv\n",
    "import numpy as np\n",
    "import math\n",
    "\n",
    "def get_closest_lines_coordinates():\n",
    "    img_orig = cv.imread('testingDataset/655f85fd-f76c-4e5b-8cc4-0faa511f4965.png')    \n",
    "    img_rgb = cv.cvtColor(img_orig, cv.COLOR_BGR2RGB)\n",
    "    img_blur = cv.blur(img_orig, ksize = (5, 5))\n",
    "    img_canny = cv.Canny(img_blur, threshold1=121.6, threshold2=180.9)\n",
    "    cdst = cv.cvtColor(img_rgb, cv.COLOR_RGB2GRAY)\n",
    "    linesP = cv.HoughLinesP(img_canny, 1, np.pi / 250, 90, None, 94.6, 20.5)\n",
    "    if linesP is not None:\n",
    "        y = []\n",
    "        x = []\n",
    "        for line in linesP:\n",
    "            x1, y1, x2, y2 = line[0]\n",
    "            y.append(y1)\n",
    "            y.append(y2)\n",
    "            x.append(x1)\n",
    "            x.append(x2)\n",
    "\n",
    "        # Find the indices of the top 2 minimum y values\n",
    "        top_2_min_indices = sorted(range(len(y)), key=lambda k: y[k])[:2]\n",
    "\n",
    "        # Get the corresponding x values for the top 2 minimum y values\n",
    "        matching_x_values = [x[index] for index in top_2_min_indices]\n",
    "\n",
    "        # Extract coordinates\n",
    "        x1, y1 = matching_x_values[0], y[top_2_min_indices[0]]\n",
    "        x2, y2 = matching_x_values[1], y[top_2_min_indices[1]]\n",
    "\n",
    "        # Calculate Euclidean distance\n",
    "        distance = math.sqrt((x2 - x1)**2 + (y2 - y1)**2)\n",
    "\n",
    "        print(\"Distance between the points:\", distance)\n",
    "\n",
    "        center = distance / 2\n",
    "\n",
    "        cv.circle(cdst, (x1, y1), 10, (0, 0, 255), -1)      # Mark ending point in red\n",
    "        cv.circle(cdst, (x2, y2), 10, (0, 0, 255), -1)      # Mark ending point in red\n",
    "\n",
    "        cv.imshow(\"Detected Lines (in red) - Probabilistic Line Transform\", cdst)\n",
    "        cv.waitKey()\n",
    "\n",
    "get_closest_lines_coordinates()"
   ]
  }
 ],
 "metadata": {
  "kernelspec": {
   "display_name": "Python 3",
   "language": "python",
   "name": "python3"
  },
  "language_info": {
   "codemirror_mode": {
    "name": "ipython",
    "version": 3
   },
   "file_extension": ".py",
   "mimetype": "text/x-python",
   "name": "python",
   "nbconvert_exporter": "python",
   "pygments_lexer": "ipython3",
   "version": "3.11.0"
  }
 },
 "nbformat": 4,
 "nbformat_minor": 2
}
