{
  "cells": [
    {
      "cell_type": "markdown",
      "metadata": {
        "id": "BgMqp926T0_z"
      },
      "source": [
        "# Deep Learning Self Driving Car\n",
        "#### Team members: Ingrid Hansen, Iris Loret, Dina Boshnaq\n",
        "#### Group 2\n",
        "\n",
        "## Introduction\n",
        "For the deep learning model, we chose the same track as for OpenCV. We are first going to collect the data and label it according to which key was pressed. After that we will create the model and also train it. After that we will evaluate it by looking at the confusion matrix. And lastly, it's time to capture the screen and give that to our model to make predictions to what direction he should drive."
      ]
    },
    {
      "cell_type": "code",
      "execution_count": 1,
      "metadata": {
        "colab": {
          "base_uri": "https://localhost:8080/",
          "height": 383
        },
        "id": "d8CwoWsEAyY0",
        "outputId": "05c17c56-5b61-48d9-cfd4-7774c1b0803e"
      },
      "outputs": [
        {
          "name": "stdout",
          "output_type": "stream",
          "text": [
            "WARNING:tensorflow:From c:\\Users\\ingri\\Documents\\3ITF\\AICourse\\Project\\Self-Driving-Mario-Kart\\car_env\\Lib\\site-packages\\keras\\src\\losses.py:2976: The name tf.losses.sparse_softmax_cross_entropy is deprecated. Please use tf.compat.v1.losses.sparse_softmax_cross_entropy instead.\n",
            "\n"
          ]
        }
      ],
      "source": [
        "#Driving imports\n",
        "import cv2\n",
        "import pyautogui\n",
        "import numpy as np\n",
        "from keras.models import load_model\n",
        "import keyboard\n",
        "import cv2 as cv\n",
        "import numpy as np\n",
        "import matplotlib.pyplot as plt\n",
        "import mss.tools\n",
        "import time\n",
        "import uuid\n",
        "import keyboard\n",
        "import pyautogui\n",
        "import time\n",
        "import mss.tools\n",
        "import uuid\n",
        "import keyboard\n",
        "from pynput import mouse\n",
        "#Model Imports\n",
        "from tensorflow.keras.applications.resnet_v2 import ResNet50V2\n",
        "from tensorflow.keras.models import Model, load_model\n",
        "from tensorflow.keras.preprocessing.image import ImageDataGenerator\n",
        "import tensorflow.keras.optimizers as optimizers\n",
        "from keras.layers import Dense, GlobalAveragePooling2D\n",
        "from keras.layers import Dropout\n",
        "from keras.layers import BatchNormalization\n",
        "from keras.layers import Conv2D, MaxPooling2D\n",
        "from keras.layers import Flatten\n",
        "from keras.layers import Reshape\n",
        "\n",
        "from tensorflow.keras.preprocessing import image\n",
        "from tensorflow.keras.applications import resnet_v2\n",
        "import os\n",
        "import numpy as np\n",
        "from sklearn.metrics import confusion_matrix\n",
        "from sklearn.preprocessing import LabelEncoder\n",
        "import seaborn as sns\n",
        "from PIL import Image\n",
        "import io"
      ]
    },
    {
      "cell_type": "markdown",
      "metadata": {
        "id": "0eow44OpW-15"
      },
      "source": [
        "## Collecting data"
      ]
    },
    {
      "cell_type": "markdown",
      "metadata": {
        "id": "Rvg-Hq1qXCZX"
      },
      "source": [
        "To collect data for our model we utilized the code below. The code takes a screenshot within the boundaries specified in the code. For us this is about one third of the screen position in the centre of the y axis of the screen.\n",
        "\n",
        "The screenshot function takes a folder as a parameter. This folder parameter is collected through key inputs while playing the game. Through this setup the images are saved in folders corresponding to the keys that are pressed while the game is being played. Through this our data is sorted with the correct label."
      ]
    },
    {
      "cell_type": "code",
      "execution_count": null,
      "metadata": {
        "id": "jk7Ngy5SXCvl"
      },
      "outputs": [],
      "source": [
        "time.sleep(5)\n",
        "\n",
        "def screenshot(folder):\n",
        "    with mss.mss() as sct:\n",
        "      # Select monitor index\n",
        "        monitor_info = sct.monitors[0]\n",
        "        # Create a margin for the top of the screen so the area of interest is positioned correctly on the y-axis.\n",
        "        top_margin = (monitor_info[\"height\"] // 4) + 50\n",
        "        # Dictionary where the portion of the monitor is determined. We add margins to correctly capture the area of interest.\n",
        "        monitor = {\"top\": monitor_info[\"top\"] + top_margin, \"left\": monitor_info[\"left\"] + 55, \"width\": monitor_info[\"width\"] - 120, \"height\": (monitor_info[\"height\"] * 2 // 3)-450}\n",
        "        # The output where the images are saved. The subfolder corresponds to the input, then a randomly generated file name is created.\n",
        "        output = f\"citydata/{folder}/{str(uuid.uuid4())}.png\".format(**monitor)\n",
        "        sct_img = sct.grab(monitor)\n",
        "        mss.tools.to_png(sct_img.rgb, sct_img.size, output=output)\n",
        "    return output\n",
        "\n",
        "#Track keyboard input\n",
        "def on_keyboard_event(event):\n",
        "    print(f\"{event.name}\")\n",
        "    return screenshot(event.name)\n",
        "#Track mouse input\n",
        "def on_mouse_event(x, y, button, pressed):\n",
        "    print(f\"{button.name}\")\n",
        "    return screenshot('forward')\n",
        "\n",
        "keyboard.hook(on_keyboard_event)\n",
        "with mouse.Listener(on_click=on_mouse_event) as listener:\n",
        "    print(\"Press keys or click the mouse (Press 'Esc' to exit)\")\n",
        "    keyboard.wait('space')  # Wait for the 'space' key to exit the program\n",
        "    listener.stop()  # Stop the mouse listener\n",
        "    keyboard.unhook_all()  # Unhook the keyboard events\n"
      ]
    },
    {
      "cell_type": "markdown",
      "metadata": {},
      "source": [
        "Display an image of every class:\n",
        "\n",
        "Right (d): \n",
        "\n",
        "<img src=\"./tracksplit/train/d/0197a1b5-8c2b-48da-914d-897113e39e6c.png\" width=\"700\">\n",
        "\n",
        "Left (q):\n",
        "\n",
        "<img src=\"./tracksplit/train/q/043351db-3297-475b-b274-de9ae166c1cc.png\" width=\"700\">\n",
        "\n",
        "Forward (f):\n",
        "\n",
        "<img src=\"./tracksplit/train/f/002d69d1-8a13-4a47-86b4-ac3b3afea1ff.png\" width=\"700\">\n",
        "\n",
        "Correct right (h):\n",
        "\n",
        "<img src=\"./tracksplit/train/h/001b5118-5f43-4939-9287-a5fc04350919.png\" width=\"700\">\n",
        "\n",
        "Correct left (j):\n",
        "\n",
        "<img src=\"./tracksplit/train/j/2750a150-0acf-47d2-8f6d-4d164a53c7cf.png\" width=\"700\">"
      ]
    },
    {
      "cell_type": "markdown",
      "metadata": {
        "id": "IKxzc60OXNUa"
      },
      "source": [
        "## Creating the Model"
      ]
    },
    {
      "cell_type": "markdown",
      "metadata": {
        "id": "aWf32VIvmhYJ"
      },
      "source": [
        "When deciding on a pretrained model to build our own model on we first tried out a ResNet50 model. However, with this model we could only reach about 40% accuracy with the model. After trying out various methods to increase the accuracy and conducting research we tried out some other pretrained models. Other versions of ResNet were tried and we eventually reached ResNet50V2. With this pretrained model we could reach about 93% accuracy with our model."
      ]
    },
    {
      "cell_type": "markdown",
      "metadata": {
        "id": "o7Yu6XSqnf-J"
      },
      "source": [
        "The data we collected is split into training and testing data. As previously stated the images are stored in folders corresponding to their labels. This dataset contains five labels:\n",
        "\n",
        "'d': Right\n",
        "\n",
        "'q': Left\n",
        "\n",
        "'f': Forward\n",
        "\n",
        "'h': Correct right\n",
        "\n",
        "'j': Correct left\n",
        "\n",
        "Right means that there is a turn to the right and Mario should go to the right. Left means the opposite and forward means just to go forward. Correct right is for when Mario is close to the right side of the track and should go to the left. Correct left then means that Mario is close to the left side of the track and needs to go to the right.\n"
      ]
    },
    {
      "cell_type": "code",
      "execution_count": 4,
      "metadata": {
        "id": "f2m7XEyQAyY3"
      },
      "outputs": [],
      "source": [
        "# Split the images into training and testing sets\n",
        "import splitfolders\n",
        "input_folder = 'trackimages'\n",
        "output_folder = 'tracksplit'\n",
        "\n",
        "# 80% training and 20% testing \n",
        "splitfolders.ratio(input_folder, output_folder, seed=40, ratio=(0.8, 0.2))"
      ]
    },
    {
      "cell_type": "markdown",
      "metadata": {
        "id": "w9dcquhMoejz"
      },
      "source": [
        "The ResNet50V2 model will be used with the imagenet weights. The top layer, which is the final fully connected layer, is excluded because our own fully connected layer is added. Our custom layer is tailored to the needs of our specific task. The input shape is set to an image size of 224x224 with three channels. This is the required image dimensions to use ResNet with imagenet.\n",
        "\n",
        "Before setting up our own layers we set the pre-existing weights in the model to not be trainable."
      ]
    },
    {
      "cell_type": "code",
      "execution_count": 76,
      "metadata": {
        "id": "uPDTgxn0AyY3"
      },
      "outputs": [],
      "source": [
        "model = ResNet50V2(include_top=False, weights='imagenet', input_shape=(224, 224, 3))"
      ]
    },
    {
      "cell_type": "code",
      "execution_count": 77,
      "metadata": {
        "id": "_d0cSfuTAyY3"
      },
      "outputs": [],
      "source": [
        "for layer in model.layers:\n",
        "    layer.trainable = False"
      ]
    },
    {
      "cell_type": "markdown",
      "metadata": {
        "id": "x6-2BgN_p5tq"
      },
      "source": [
        "The output tensor of the model is retrieved and used as the input for the layers we add onto the model. We apply batch normalization on the inputs. Following this, a convolutional layer is added with 64 filters of the size 3x3. Max Pooling is performed followed by flattening the input. Two Dense layers are then added with 128 and 64 neurons respectively. The layers use ReLu as an activation function. The fully connected layer we add is specified to have five neurons, each corresponding to each potential output. The optimizer for the model is adam with a learning rate of 0.01. The model is compiled with the categorical crossentropy as a loss function."
      ]
    },
    {
      "cell_type": "code",
      "execution_count": 78,
      "metadata": {
        "id": "UB4dbi0mAyY3"
      },
      "outputs": [],
      "source": [
        "x = model.output\n",
        "\n",
        "x = BatchNormalization()(x)\n",
        "x = Conv2D(filters=64, kernel_size=(3, 3), activation='relu')(x) \n",
        "x = MaxPooling2D(pool_size=(2, 2))(x)\n",
        "\n",
        "x = Flatten()(x)\n",
        "\n",
        "x = Dense(128, activation='relu')(x)\n",
        "x = Dense(64, activation='relu')(x)\n",
        "classes = Dense(5, activation='softmax')(x)\n",
        "\n",
        "\n",
        "model = Model(inputs=model.input, outputs=classes)\n",
        "optimizer = optimizers.Adam(learning_rate=0.01)\n"
      ]
    },
    {
      "cell_type": "code",
      "execution_count": 79,
      "metadata": {
        "id": "7j-x0ATBAyY3"
      },
      "outputs": [],
      "source": [
        "model.compile(optimizer=optimizer, loss=\"categorical_crossentropy\", metrics=[\"accuracy\"])"
      ]
    },
    {
      "cell_type": "markdown",
      "metadata": {
        "id": "ICBNyBzPuLir"
      },
      "source": [
        "When generating image data we perform some data augmentation. The pixel values are normalized to a 0-1 range. The images can be shifted on the width and height by 10% and can be zoomed in or out by 10%. The channel shift means that the color channels in the image could be increased or decreased by up to 20%. The brigthness can also be adjusted up to 20% up or down."
      ]
    },
    {
      "cell_type": "code",
      "execution_count": 80,
      "metadata": {
        "id": "xKp1uCHYAyY4"
      },
      "outputs": [],
      "source": [
        "datagen = ImageDataGenerator(rescale=1./255,\n",
        "                                width_shift_range=0.1,\n",
        "                                height_shift_range=0.1,\n",
        "                                zoom_range=0.1,\n",
        "                                channel_shift_range=0.2,\n",
        "                                brightness_range=(0.8, 1.2))"
      ]
    },
    {
      "cell_type": "code",
      "execution_count": 81,
      "metadata": {
        "colab": {
          "base_uri": "https://localhost:8080/"
        },
        "id": "HksbEChcAyY4",
        "outputId": "ce6ab3f6-4bdf-46b7-9413-3156ec0e254c"
      },
      "outputs": [
        {
          "name": "stdout",
          "output_type": "stream",
          "text": [
            "Found 874 images belonging to 5 classes.\n",
            "Found 220 images belonging to 5 classes.\n"
          ]
        }
      ],
      "source": [
        "# Specify the train and validation dataset\n",
        "train_data = datagen.flow_from_directory(\"tracksplit/train\", target_size=(224, 224), batch_size=120, class_mode=\"categorical\")\n",
        "val_data = datagen.flow_from_directory(\"tracksplit/val\", target_size=(224, 224), batch_size=120, class_mode=\"categorical\")"
      ]
    },
    {
      "cell_type": "markdown",
      "metadata": {},
      "source": [
        "## Training the model"
      ]
    },
    {
      "cell_type": "code",
      "execution_count": 82,
      "metadata": {
        "colab": {
          "base_uri": "https://localhost:8080/"
        },
        "id": "h0aIoezWAyY4",
        "outputId": "68c39b61-28f0-43db-8549-121ac728542f"
      },
      "outputs": [
        {
          "name": "stdout",
          "output_type": "stream",
          "text": [
            "Epoch 1/5\n",
            "8/8 [==============================] - 169s 20s/step - loss: 8.3119 - accuracy: 0.5206 - val_loss: 3.3112 - val_accuracy: 0.7227\n",
            "Epoch 2/5\n",
            "8/8 [==============================] - 177s 21s/step - loss: 1.9422 - accuracy: 0.7872 - val_loss: 2.3875 - val_accuracy: 0.7409\n",
            "Epoch 3/5\n",
            "8/8 [==============================] - 169s 21s/step - loss: 0.9444 - accuracy: 0.8272 - val_loss: 1.1077 - val_accuracy: 0.8636\n",
            "Epoch 4/5\n",
            "8/8 [==============================] - 152s 19s/step - loss: 0.4816 - accuracy: 0.8913 - val_loss: 0.4668 - val_accuracy: 0.8727\n",
            "Epoch 5/5\n",
            "8/8 [==============================] - 172s 21s/step - loss: 0.2866 - accuracy: 0.9211 - val_loss: 0.3712 - val_accuracy: 0.8545\n"
          ]
        },
        {
          "data": {
            "text/plain": [
              "<keras.src.callbacks.History at 0x7979dd0079a0>"
            ]
          },
          "execution_count": 82,
          "metadata": {},
          "output_type": "execute_result"
        }
      ],
      "source": [
        "# Train the model\n",
        "model.fit(train_data, epochs=5, validation_data=val_data)"
      ]
    },
    {
      "cell_type": "code",
      "execution_count": 87,
      "metadata": {
        "id": "g03GL5NWHc3N"
      },
      "outputs": [],
      "source": [
        "# Take an image from the validation set to test\n",
        "img = image.load_img(\"tracksplit/val/j/0fa740d2-3491-4e1b-8159-07faacb6f634.png\", target_size=(224, 224))\n",
        "                     \n",
        "# Convert the image to a numpy array\n",
        "x = image.img_to_array(img)\n",
        "\n",
        "# Expand the dimensions to match the shape that the model expects\n",
        "x = np.expand_dims(x, axis=0)\n",
        "\n",
        "# Preprocess the input\n",
        "x = resnet_v2.preprocess_input(x)"
      ]
    },
    {
      "cell_type": "code",
      "execution_count": 88,
      "metadata": {
        "colab": {
          "base_uri": "https://localhost:8080/"
        },
        "id": "KJlgLDJBIAJD",
        "outputId": "cf7063f5-2667-4bcd-a535-6becf3bb2187"
      },
      "outputs": [
        {
          "name": "stdout",
          "output_type": "stream",
          "text": [
            "1/1 [==============================] - 0s 124ms/step\n"
          ]
        }
      ],
      "source": [
        "# Predict a direction based on the image\n",
        "direction = model.predict(x)"
      ]
    },
    {
      "cell_type": "code",
      "execution_count": 89,
      "metadata": {
        "colab": {
          "base_uri": "https://localhost:8080/"
        },
        "id": "LfXY6dcRHqO1",
        "outputId": "fc32a068-8c68-48d6-8dfb-12faf7802644"
      },
      "outputs": [
        {
          "name": "stdout",
          "output_type": "stream",
          "text": [
            "3\n",
            "0.99866915\n"
          ]
        }
      ],
      "source": [
        "# The action index: 0=d, 1=f, 2=h, 3=j, 4=q\n",
        "action_index = np.argmax(direction)\n",
        "# How confident is the model in the predicted direction\n",
        "confidence = direction[0][action_index]\n",
        "print(action_index)\n",
        "print(confidence)"
      ]
    },
    {
      "cell_type": "code",
      "execution_count": 83,
      "metadata": {
        "colab": {
          "base_uri": "https://localhost:8080/"
        },
        "id": "z7jfi71bHrOh",
        "outputId": "0490b921-8e40-4c59-8c70-11edaa14bdf7"
      },
      "outputs": [
        {
          "name": "stdout",
          "output_type": "stream",
          "text": [
            "1/1 [==============================] - 1s 888ms/step\n",
            "1/1 [==============================] - 0s 130ms/step\n",
            "1/1 [==============================] - 0s 129ms/step\n",
            "1/1 [==============================] - 0s 130ms/step\n",
            "1/1 [==============================] - 0s 128ms/step\n",
            "1/1 [==============================] - 0s 127ms/step\n",
            "1/1 [==============================] - 0s 135ms/step\n",
            "1/1 [==============================] - 0s 125ms/step\n",
            "1/1 [==============================] - 0s 133ms/step\n",
            "1/1 [==============================] - 0s 120ms/step\n",
            "1/1 [==============================] - 0s 123ms/step\n",
            "1/1 [==============================] - 0s 138ms/step\n",
            "1/1 [==============================] - 0s 127ms/step\n",
            "1/1 [==============================] - 0s 128ms/step\n",
            "1/1 [==============================] - 0s 138ms/step\n",
            "1/1 [==============================] - 0s 182ms/step\n",
            "1/1 [==============================] - 0s 182ms/step\n",
            "1/1 [==============================] - 0s 195ms/step\n",
            "1/1 [==============================] - 0s 178ms/step\n",
            "1/1 [==============================] - 0s 173ms/step\n",
            "1/1 [==============================] - 0s 192ms/step\n",
            "1/1 [==============================] - 0s 364ms/step\n",
            "1/1 [==============================] - 0s 275ms/step\n",
            "1/1 [==============================] - 0s 296ms/step\n",
            "1/1 [==============================] - 0s 343ms/step\n",
            "1/1 [==============================] - 0s 362ms/step\n",
            "1/1 [==============================] - 0s 343ms/step\n",
            "1/1 [==============================] - 0s 199ms/step\n",
            "1/1 [==============================] - 0s 206ms/step\n",
            "1/1 [==============================] - 0s 266ms/step\n",
            "1/1 [==============================] - 0s 155ms/step\n",
            "1/1 [==============================] - 0s 134ms/step\n",
            "1/1 [==============================] - 0s 132ms/step\n",
            "1/1 [==============================] - 0s 125ms/step\n",
            "1/1 [==============================] - 0s 129ms/step\n",
            "1/1 [==============================] - 0s 124ms/step\n",
            "1/1 [==============================] - 0s 118ms/step\n",
            "1/1 [==============================] - 0s 128ms/step\n",
            "1/1 [==============================] - 0s 126ms/step\n",
            "1/1 [==============================] - 0s 125ms/step\n",
            "1/1 [==============================] - 0s 125ms/step\n",
            "1/1 [==============================] - 0s 119ms/step\n",
            "1/1 [==============================] - 0s 133ms/step\n",
            "1/1 [==============================] - 0s 130ms/step\n",
            "1/1 [==============================] - 0s 169ms/step\n",
            "1/1 [==============================] - 0s 162ms/step\n",
            "1/1 [==============================] - 0s 174ms/step\n",
            "1/1 [==============================] - 0s 171ms/step\n",
            "1/1 [==============================] - 0s 161ms/step\n",
            "1/1 [==============================] - 0s 196ms/step\n",
            "1/1 [==============================] - 0s 130ms/step\n",
            "1/1 [==============================] - 0s 132ms/step\n",
            "1/1 [==============================] - 0s 129ms/step\n",
            "1/1 [==============================] - 0s 128ms/step\n",
            "1/1 [==============================] - 0s 126ms/step\n",
            "1/1 [==============================] - 0s 135ms/step\n",
            "1/1 [==============================] - 0s 125ms/step\n",
            "1/1 [==============================] - 0s 122ms/step\n",
            "1/1 [==============================] - 0s 123ms/step\n",
            "1/1 [==============================] - 0s 126ms/step\n",
            "1/1 [==============================] - 0s 127ms/step\n",
            "1/1 [==============================] - 0s 127ms/step\n",
            "1/1 [==============================] - 0s 136ms/step\n",
            "1/1 [==============================] - 0s 123ms/step\n",
            "1/1 [==============================] - 0s 126ms/step\n",
            "1/1 [==============================] - 0s 123ms/step\n",
            "1/1 [==============================] - 0s 127ms/step\n",
            "1/1 [==============================] - 0s 127ms/step\n",
            "1/1 [==============================] - 0s 131ms/step\n",
            "1/1 [==============================] - 0s 124ms/step\n",
            "1/1 [==============================] - 0s 166ms/step\n",
            "1/1 [==============================] - 0s 163ms/step\n",
            "1/1 [==============================] - 0s 163ms/step\n",
            "1/1 [==============================] - 0s 163ms/step\n",
            "1/1 [==============================] - 0s 174ms/step\n",
            "1/1 [==============================] - 0s 170ms/step\n",
            "1/1 [==============================] - 0s 173ms/step\n",
            "1/1 [==============================] - 0s 155ms/step\n",
            "1/1 [==============================] - 0s 160ms/step\n",
            "1/1 [==============================] - 0s 175ms/step\n",
            "1/1 [==============================] - 0s 169ms/step\n",
            "1/1 [==============================] - 0s 163ms/step\n",
            "1/1 [==============================] - 0s 165ms/step\n",
            "1/1 [==============================] - 0s 183ms/step\n",
            "1/1 [==============================] - 0s 206ms/step\n",
            "1/1 [==============================] - 0s 204ms/step\n",
            "1/1 [==============================] - 0s 206ms/step\n",
            "1/1 [==============================] - 0s 218ms/step\n",
            "1/1 [==============================] - 0s 202ms/step\n",
            "1/1 [==============================] - 0s 162ms/step\n",
            "1/1 [==============================] - 0s 173ms/step\n",
            "1/1 [==============================] - 0s 171ms/step\n",
            "1/1 [==============================] - 0s 159ms/step\n",
            "1/1 [==============================] - 0s 163ms/step\n",
            "1/1 [==============================] - 0s 178ms/step\n",
            "1/1 [==============================] - 0s 166ms/step\n",
            "1/1 [==============================] - 0s 159ms/step\n",
            "1/1 [==============================] - 0s 164ms/step\n",
            "1/1 [==============================] - 0s 176ms/step\n",
            "1/1 [==============================] - 0s 162ms/step\n",
            "1/1 [==============================] - 0s 128ms/step\n",
            "1/1 [==============================] - 0s 124ms/step\n",
            "1/1 [==============================] - 0s 130ms/step\n",
            "1/1 [==============================] - 0s 126ms/step\n",
            "1/1 [==============================] - 0s 130ms/step\n",
            "1/1 [==============================] - 0s 136ms/step\n",
            "1/1 [==============================] - 0s 170ms/step\n",
            "1/1 [==============================] - 0s 193ms/step\n",
            "1/1 [==============================] - 0s 120ms/step\n",
            "1/1 [==============================] - 0s 130ms/step\n",
            "1/1 [==============================] - 0s 130ms/step\n",
            "1/1 [==============================] - 0s 123ms/step\n",
            "1/1 [==============================] - 0s 123ms/step\n",
            "1/1 [==============================] - 0s 126ms/step\n",
            "1/1 [==============================] - 0s 125ms/step\n",
            "1/1 [==============================] - 0s 118ms/step\n",
            "1/1 [==============================] - 0s 125ms/step\n",
            "1/1 [==============================] - 0s 123ms/step\n",
            "1/1 [==============================] - 0s 130ms/step\n",
            "1/1 [==============================] - 0s 126ms/step\n",
            "1/1 [==============================] - 0s 128ms/step\n",
            "1/1 [==============================] - 0s 131ms/step\n",
            "1/1 [==============================] - 0s 123ms/step\n",
            "1/1 [==============================] - 0s 129ms/step\n",
            "1/1 [==============================] - 0s 130ms/step\n",
            "1/1 [==============================] - 0s 121ms/step\n",
            "1/1 [==============================] - 0s 140ms/step\n",
            "1/1 [==============================] - 0s 126ms/step\n",
            "1/1 [==============================] - 0s 123ms/step\n",
            "1/1 [==============================] - 0s 127ms/step\n",
            "1/1 [==============================] - 0s 126ms/step\n",
            "1/1 [==============================] - 0s 147ms/step\n",
            "1/1 [==============================] - 0s 134ms/step\n",
            "1/1 [==============================] - 0s 125ms/step\n",
            "1/1 [==============================] - 0s 130ms/step\n",
            "1/1 [==============================] - 0s 122ms/step\n",
            "1/1 [==============================] - 0s 118ms/step\n",
            "1/1 [==============================] - 0s 169ms/step\n",
            "1/1 [==============================] - 0s 161ms/step\n",
            "1/1 [==============================] - 0s 173ms/step\n",
            "1/1 [==============================] - 0s 167ms/step\n",
            "1/1 [==============================] - 0s 167ms/step\n",
            "1/1 [==============================] - 0s 171ms/step\n",
            "1/1 [==============================] - 0s 166ms/step\n",
            "1/1 [==============================] - 0s 165ms/step\n",
            "1/1 [==============================] - 0s 164ms/step\n",
            "1/1 [==============================] - 0s 175ms/step\n",
            "1/1 [==============================] - 0s 162ms/step\n",
            "1/1 [==============================] - 0s 168ms/step\n",
            "1/1 [==============================] - 0s 162ms/step\n",
            "1/1 [==============================] - 0s 185ms/step\n",
            "1/1 [==============================] - 0s 164ms/step\n",
            "1/1 [==============================] - 0s 126ms/step\n",
            "1/1 [==============================] - 0s 127ms/step\n",
            "1/1 [==============================] - 0s 122ms/step\n",
            "1/1 [==============================] - 0s 117ms/step\n",
            "1/1 [==============================] - 0s 124ms/step\n",
            "1/1 [==============================] - 0s 133ms/step\n",
            "1/1 [==============================] - 0s 133ms/step\n",
            "1/1 [==============================] - 0s 120ms/step\n",
            "1/1 [==============================] - 0s 127ms/step\n",
            "1/1 [==============================] - 0s 126ms/step\n",
            "1/1 [==============================] - 0s 123ms/step\n",
            "1/1 [==============================] - 0s 121ms/step\n",
            "1/1 [==============================] - 0s 133ms/step\n",
            "1/1 [==============================] - 0s 119ms/step\n",
            "1/1 [==============================] - 0s 125ms/step\n",
            "1/1 [==============================] - 0s 122ms/step\n",
            "1/1 [==============================] - 0s 116ms/step\n",
            "1/1 [==============================] - 0s 124ms/step\n",
            "1/1 [==============================] - 0s 127ms/step\n",
            "1/1 [==============================] - 0s 128ms/step\n",
            "1/1 [==============================] - 0s 132ms/step\n",
            "1/1 [==============================] - 0s 121ms/step\n",
            "1/1 [==============================] - 0s 123ms/step\n",
            "1/1 [==============================] - 0s 129ms/step\n",
            "1/1 [==============================] - 0s 119ms/step\n",
            "1/1 [==============================] - 0s 131ms/step\n",
            "1/1 [==============================] - 0s 123ms/step\n",
            "1/1 [==============================] - 0s 120ms/step\n",
            "1/1 [==============================] - 0s 120ms/step\n",
            "1/1 [==============================] - 0s 134ms/step\n",
            "1/1 [==============================] - 0s 124ms/step\n",
            "1/1 [==============================] - 0s 123ms/step\n",
            "1/1 [==============================] - 0s 120ms/step\n",
            "1/1 [==============================] - 0s 118ms/step\n",
            "1/1 [==============================] - 0s 128ms/step\n",
            "1/1 [==============================] - 0s 132ms/step\n",
            "1/1 [==============================] - 0s 130ms/step\n",
            "1/1 [==============================] - 0s 127ms/step\n",
            "1/1 [==============================] - 0s 156ms/step\n",
            "1/1 [==============================] - 0s 131ms/step\n",
            "1/1 [==============================] - 0s 128ms/step\n",
            "1/1 [==============================] - 0s 128ms/step\n",
            "1/1 [==============================] - 0s 122ms/step\n",
            "1/1 [==============================] - 0s 118ms/step\n",
            "1/1 [==============================] - 0s 119ms/step\n",
            "1/1 [==============================] - 0s 132ms/step\n",
            "1/1 [==============================] - 0s 125ms/step\n",
            "1/1 [==============================] - 0s 127ms/step\n",
            "1/1 [==============================] - 0s 121ms/step\n",
            "1/1 [==============================] - 0s 120ms/step\n",
            "1/1 [==============================] - 0s 123ms/step\n",
            "1/1 [==============================] - 0s 134ms/step\n",
            "1/1 [==============================] - 0s 120ms/step\n",
            "1/1 [==============================] - 0s 123ms/step\n",
            "1/1 [==============================] - 0s 134ms/step\n",
            "1/1 [==============================] - 0s 171ms/step\n",
            "1/1 [==============================] - 0s 158ms/step\n",
            "1/1 [==============================] - 0s 176ms/step\n",
            "1/1 [==============================] - 0s 160ms/step\n",
            "1/1 [==============================] - 0s 169ms/step\n",
            "1/1 [==============================] - 0s 167ms/step\n",
            "1/1 [==============================] - 0s 164ms/step\n",
            "1/1 [==============================] - 0s 158ms/step\n",
            "1/1 [==============================] - 0s 173ms/step\n",
            "1/1 [==============================] - 0s 173ms/step\n",
            "1/1 [==============================] - 0s 180ms/step\n",
            "1/1 [==============================] - 0s 179ms/step\n",
            "1/1 [==============================] - 0s 167ms/step\n",
            "[[48  8  0  0  0]\n",
            " [ 2 55  0  0  3]\n",
            " [ 0  0 17  4  0]\n",
            " [ 6  2  0 26  0]\n",
            " [ 0  3  0  0 46]]\n"
          ]
        }
      ],
      "source": [
        "# Take the validation directory to make predictions on\n",
        "directory = 'tracksplit/val'\n",
        "\n",
        "# Lists to store the actual and predicted classes\n",
        "y_true = []\n",
        "y_pred = []\n",
        "\n",
        "# Encode the labels\n",
        "le = LabelEncoder()\n",
        "\n",
        "# Iterate over every subdirectory in the directory\n",
        "for subdir in os.listdir(directory):\n",
        "    subdir_path = os.path.join(directory, subdir)\n",
        "    if os.path.isdir(subdir_path):\n",
        "        # Iterate over every image in the subdirectory\n",
        "        for filename in os.listdir(subdir_path):\n",
        "            if filename.endswith(\".png\"):\n",
        "                # Load the image\n",
        "                img_path = os.path.join(subdir_path, filename)\n",
        "                img = image.load_img(img_path, target_size=(224, 224))\n",
        "\n",
        "                # Convert the image to a numpy array\n",
        "                x = image.img_to_array(img)\n",
        "\n",
        "                # Expand the dimensions to match the shape that the model expects\n",
        "                x = np.expand_dims(x, axis=0)\n",
        "\n",
        "                # Preprocess the input\n",
        "                x = resnet_v2.preprocess_input(x)\n",
        "\n",
        "                # Make a prediction\n",
        "                predictions = model.predict(x)\n",
        "\n",
        "                # Get the index of the class with the highest probability\n",
        "                predicted_class = np.argmax(predictions)\n",
        "\n",
        "                # Add the actual and predicted classes to the lists\n",
        "                # The actual class is the name of the subdirectory\n",
        "                y_true.append(subdir)\n",
        "                y_pred.append(predicted_class)\n",
        "\n",
        "                continue\n",
        "            else:\n",
        "                continue\n",
        "# Transform the labels to numerical labels\n",
        "y_true = le.fit_transform(y_true)\n",
        "# Create a confusion matrix\n",
        "cm = confusion_matrix(y_true, y_pred)\n",
        "\n",
        "# Print the confusion matrix\n",
        "print(cm)"
      ]
    },
    {
      "cell_type": "code",
      "execution_count": 90,
      "metadata": {
        "colab": {
          "base_uri": "https://localhost:8080/"
        },
        "id": "2inWOjvopC1w",
        "outputId": "f7977734-b461-4412-cbe4-602a3ebd27ba"
      },
      "outputs": [
        {
          "name": "stdout",
          "output_type": "stream",
          "text": [
            "Encoded label 0 corresponds to original label 'd'\n",
            "Encoded label 1 corresponds to original label 'f'\n",
            "Encoded label 2 corresponds to original label 'h'\n",
            "Encoded label 3 corresponds to original label 'j'\n",
            "Encoded label 4 corresponds to original label 'q'\n"
          ]
        }
      ],
      "source": [
        "# Display the encoded labels with the original labels\n",
        "for i, class_name in enumerate(le.classes_):\n",
        "    print(f\"Encoded label {i} corresponds to original label '{class_name}'\")"
      ]
    },
    {
      "cell_type": "code",
      "execution_count": 84,
      "metadata": {
        "colab": {
          "base_uri": "https://localhost:8080/"
        },
        "id": "8zDaovliAyY4",
        "outputId": "51a4ff36-f30b-49cc-a927-74ecc966c411"
      },
      "outputs": [
        {
          "name": "stderr",
          "output_type": "stream",
          "text": [
            "/usr/local/lib/python3.10/dist-packages/keras/src/engine/training.py:3079: UserWarning: You are saving your model as an HDF5 file via `model.save()`. This file format is considered legacy. We recommend using instead the native Keras format, e.g. `model.save('my_model.keras')`.\n",
            "  saving_api.save_model(\n"
          ]
        }
      ],
      "source": [
        "# Save the model\n",
        "model.save('trackv3.h5')"
      ]
    },
    {
      "cell_type": "code",
      "execution_count": 85,
      "metadata": {
        "colab": {
          "base_uri": "https://localhost:8080/",
          "height": 696
        },
        "id": "wehgEal_rGFX",
        "outputId": "bcea82f2-5cd0-4c53-ee2c-81134c75408a"
      },
      "outputs": [
        {
          "data": {
            "image/png": "[encoded data removed]",
            "text/plain": [
              "<Figure size 1000x800 with 2 Axes>"
            ]
          },
          "metadata": {},
          "output_type": "display_data"
        }
      ],
      "source": [
        "# Compute the confusion matrix\n",
        "confusion_mtx = confusion_matrix(y_true, y_pred)\n",
        "\n",
        "# Plot the confusion matrix\n",
        "plt.figure(figsize=(10,8))\n",
        "sns.heatmap(confusion_mtx, annot=True, fmt=\"d\")\n",
        "plt.xlabel('Predicted')\n",
        "plt.ylabel('True')\n",
        "plt.show()"
      ]
    },
    {
      "cell_type": "markdown",
      "metadata": {},
      "source": [
        "From this confusion matrix we can see that our model mostly performs well on all classes. There are a few labels wrongly predicted. The maximum amount of wrongly predicted labels for one class is 8 and the minimum is 3. \n",
        "\n",
        "The most mistakes are made in predicting 'right' and 'correct left'. 'Right' was predicted as 'forward' sometimes, and for 'correct left' the model confused it for 'right' the most. Which makes sense and isn't that big of a problem since 'right' and 'correct left' should both go right. \n",
        "\n",
        "The class that performs the best is 'left' and then 'correct right'. The model confuses 'left' the most for 'forward' and 'correct right' for 'correct left', which is a problem but luckily it was only wrong in 4 cases.\n",
        "\n",
        "The class 'forward' predicted 5 times the wrong class. It sees it sometimes as 'left' or 'right'."
      ]
    },
    {
      "cell_type": "code",
      "execution_count": null,
      "metadata": {},
      "outputs": [],
      "source": [
        "# Load the model that will be used to control Mario\n",
        "model = load_model('trackv3.h5')"
      ]
    },
    {
      "cell_type": "markdown",
      "metadata": {},
      "source": [
        "## Let's run Mario!"
      ]
    },
    {
      "cell_type": "code",
      "execution_count": null,
      "metadata": {},
      "outputs": [],
      "source": [
        "# Let the model predict based on an image, which direction to go\n",
        "def determine_direction(img):\n",
        "    # Resize the image\n",
        "    img = img.resize((224, 224))\n",
        "    # Convert the image to a numpy array\n",
        "    x = image.img_to_array(img)\n",
        "    # Expand the dimensions to match the shape that the model expects\n",
        "    x = np.expand_dims(x, axis=0)\n",
        "    # Preprocess the input\n",
        "    x = resnet_v2.preprocess_input(x)\n",
        "    # Let the model predict the direction\n",
        "    x = model.predict(x)\n",
        "    # Set a threshold\n",
        "    threshold = 0.60\n",
        "    # Get the predicted value\n",
        "    action_index = np.argmax(x)\n",
        "    print(action_index)\n",
        "    # Retrieve the confidence score for the predicted value\n",
        "    confidence = x[0][action_index]\n",
        "    print(confidence)\n",
        "    # When the threshold is bigger than the confidence, return 6 so the else statement will be triggered later on\n",
        "    # Else, return the predicted class\n",
        "    if threshold > confidence:\n",
        "        print('back')\n",
        "        return 6\n",
        "    return action_index\n",
        "    "
      ]
    },
    {
      "cell_type": "code",
      "execution_count": null,
      "metadata": {},
      "outputs": [],
      "source": [
        "# Define the codec using VideoWriter_fourcc() and create a VideoWriter object\n",
        "# Sleep so we are able to open the game\n",
        "time.sleep(5)\n",
        "fourcc = cv2.VideoWriter_fourcc(*'XVID')\n",
        "out = cv2.VideoWriter('output.avi', fourcc, 20.0, (1920,1080))\n",
        "sct = mss.mss()\n",
        "monitor_info = sct.monitors[0]\n",
        "\n",
        "# Define dimensions of the screen we want to capture\n",
        "top_margin = (monitor_info[\"height\"] // 4) + 50\n",
        "monitor = {\n",
        "    \"top\": monitor_info[\"top\"] + top_margin,\n",
        "    \"left\": monitor_info[\"left\"] + 55,\n",
        "    \"width\": monitor_info[\"width\"] - 120,\n",
        "    \"height\": (monitor_info[\"height\"] * 2 // 3) - 450}\n",
        "\n",
        "# Stop when space is pressed\n",
        "while not keyboard.is_pressed(\"space\"):\n",
        "    # Capture computer screen\n",
        "    screenshot = sct.grab(monitor)\n",
        "    img = np.array(screenshot)\n",
        "    # Create an image from the screenshot and save it in memory\n",
        "    img = Image.frombytes('RGB', screenshot.size, screenshot.rgb)\n",
        "    bytes_io = io.BytesIO()\n",
        "    img.save(bytes_io, format='PNG') \n",
        "    # Predict the direction\n",
        "    direction = determine_direction(img)\n",
        "    #0=d, 1=f, 2=h, 3=j, 4=q\n",
        "    if (direction == 0):\n",
        "        # Go right\n",
        "        print('right')\n",
        "        pyautogui.mouseDown()\n",
        "        keyboard.press('d')\n",
        "        time.sleep(0.35)\n",
        "        keyboard.release('d')\n",
        "        pyautogui.mouseUp()\n",
        "    elif (direction == 4):\n",
        "        # Go left\n",
        "        print('left')\n",
        "        pyautogui.mouseDown()\n",
        "        keyboard.press('q')\n",
        "        time.sleep(0.3)\n",
        "        keyboard.release('q')\n",
        "        pyautogui.mouseUp()\n",
        "    elif (direction == 1):\n",
        "        # Go forward\n",
        "        print('forward')\n",
        "        pyautogui.mouseDown()  \n",
        "        time.sleep(0.5)           \n",
        "        pyautogui.mouseUp()\n",
        "    elif (direction == 2): \n",
        "        # Correct the right - go left\n",
        "        print('c-right')\n",
        "        pyautogui.mouseDown()\n",
        "        keyboard.press('q')\n",
        "        time.sleep(0.3)\n",
        "        keyboard.release('q')\n",
        "        pyautogui.mouseUp()\n",
        "    elif (direction == 3): \n",
        "        # Correct the left - go right\n",
        "        print('c-left')\n",
        "        pyautogui.mouseDown()\n",
        "        keyboard.press('d')\n",
        "        time.sleep(0.3)\n",
        "        keyboard.release('d')\n",
        "        pyautogui.mouseUp()\n",
        "    else: \n",
        "        # Go backwardds\n",
        "        pyautogui.mouseDown(button='right')\n",
        "        time.sleep(0.4)\n",
        "        pyautogui.mouseUp(button='right')\n",
        "    time.sleep(0.1)\n",
        "\n",
        "# Release everything when job is finished\n",
        "out.release()\n",
        "cv2.destroyAllWindows()"
      ]
    },
    {
      "cell_type": "markdown",
      "metadata": {},
      "source": [
        "## Problems we encountered\n",
        "\n",
        "1. Preprocessing the images\n",
        "\n",
        "After multiple attempts where we were trying to get Mario to drive but he wasn’t, we started thinking the problem might be our data. We collected data several times and made sure to clean it well. But even then the issue remained. To check whether the problem was with our dataset or not, we fed our data to Google Teachable Machine and the model we got was surprisingly good. So that confirmed that the issue was not, in fact, from our data. We decided to check the model again as the problem seemed to lie there. But we couldn’t find any issue, so we consulted the teacher about it. Apparently the issue was with how we were preprocessing the images. The way we were doing it when training the model was different from when starting the game and taking screenshots while driving. To check on how the predictions were being made, we made a confusion matrix. \n",
        "After carefully looking at the code once more, specifically at the preprocessing part, we found that we weren't using this when making predictions: resnet_v2.preprocess_input(x). This processes the image into the format that the ResNet model needs. When we fixed that Mario actually started driving, so problem fixed. Here’s a comparison in the confusion matrixes before and after...\n",
        "\n",
        "- Old Confusion Matrix:\n",
        "\n",
        "<img src=\"oldConfusionMatrix.jpg\" width=\"700\"/>\n",
        "\n",
        "- New Confusion Matrix:\n",
        "\n",
        "<img src=\"newConfusionMatrix.jpg\" width=\"700\"/>\n",
        "\n",
        "We learn from this that image preprocessing is a vital step when making the model. And the way you do it during training should match the way it’s done when capturing images during testing.\n",
        "\n",
        "2. Getting the correct data we needed (data suited for the track)\n",
        "\n",
        "Cleaning the data (images) wasn’t the easiest. Not all the images taken matched the label they were assigned to (the folder they were stored in). So we had to make sure that this data was properly cleaned so that it would match the correct move to take on this specific track.\n",
        "\n",
        "3. Dealing with sharp turns\n",
        "\n",
        "Another problem we encountered was that Mario might not know how hard he needs to turn to the left or right. Some turns are wide and large and some are smaller. We thought of adding 2 additional classes which were meant to take a turn when the road was diagonal. This could also help if Mario was in a poor angle after a turn, helping him get back on track instead of going forward outside of the track. After testing this, changing the speed didn't really help but in general implementing these two classes did make the model perform slightly better. The problem with this might be that there wasn't enough data of the large turns."
      ]
    },
    {
      "cell_type": "markdown",
      "metadata": {},
      "source": [
        "## Conclusion"
      ]
    },
    {
      "cell_type": "markdown",
      "metadata": {},
      "source": [
        "In conclusion, we can say that Mario can drive some parts of this specific course on his own, but in some parts of the track he still has a hard time figuring out which direction he should go. Our model definitely wasn't the best for driving altough the accuracy and confusion matrix looked really good. We tried to train a Google Teachable Machine model for our data and while the confusion matrix for that model also looked good, it wasn't able to drive perfectly. Maybe this means that Mario Kart is too hard to control for a deep learning model. We even tried it with a different track, but this was even a bit worse then the current track we are using which is the same as the OpenCV part.\n",
        "\n",
        "Throughout this assignment we learned how to use ResNet50v2 to train a model and to use preprocessing on the image. \n",
        "\n",
        "What we would have done differently is probably that we would have chosen a different game since Mario is a bit too hard, since the model performs well but when it actually needs to drive it doesn't perform that great, even with the Teachable Machine model. Maybe we need even more data and when we had a bit more time we could have tried that.\n",
        "\n",
        "We are proud of the way Mario can sometimes follow the track and that he sometimes knows what direction he needs to go to."
      ]
    },
    {
      "cell_type": "markdown",
      "metadata": {},
      "source": [
        "##### Alternate Approach\n",
        "\n",
        "A different approach we wanted to attempt was to change the way we were handling and labelling our data. The concept would be to instead of having folders with labels we would have labels in the file names. These file names would contain which button(s) were pressed and the duration of how long they were pressed. This could potentially help Mario scale both large and small turns while keeping him on track. This still leaves the risk of Mario going off track depending on his angle after a turn. Another issue is the duration of how forward(left mouse click) would be handled, as generally in the game it would be pressed for long durations if not through the entire course. However it is unsure how effective this approach would be without first implementing it. Unfortunately we ran out of time before we could implement this approach."
      ]
    }
  ],
  "metadata": {
    "colab": {
      "provenance": []
    },
    "kernelspec": {
      "display_name": "mss",
      "language": "python",
      "name": "python3"
    },
    "language_info": {
      "codemirror_mode": {
        "name": "ipython",
        "version": 3
      },
      "file_extension": ".py",
      "mimetype": "text/x-python",
      "name": "python",
      "nbconvert_exporter": "python",
      "pygments_lexer": "ipython3",
      "version": "3.11.6"
    }
  },
  "nbformat": 4,
  "nbformat_minor": 0
}
